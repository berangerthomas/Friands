{
 "cells": [
  {
   "cell_type": "code",
   "execution_count": 1,
   "metadata": {},
   "outputs": [],
   "source": [
    "from sqlutils import sqlutils\n",
    "from schemaDB import schemaDB\n",
    "from pathlib import Path\n",
    "# Importer le module pour interagir avec le notebook\n",
    "from IPython import get_ipython"
   ]
  },
  {
   "cell_type": "code",
   "execution_count": 2,
   "metadata": {},
   "outputs": [],
   "source": [
    "csv_sources = [\"avis_cleaned.csv\", \"restaurants.csv\", \"Geographie.csv\"]"
   ]
  },
  {
   "cell_type": "code",
   "execution_count": 3,
   "metadata": {},
   "outputs": [],
   "source": [
    "# Obtenir le chemin du notebook\n",
    "notebook_path = get_ipython().starting_dir\n",
    "\n",
    "# Définir le lien vers la base de données en commencant par reculer de deux dossiers\n",
    "db_path = Path(notebook_path).parents[1] / \"data\" / \"friands.db\""
   ]
  },
  {
   "cell_type": "code",
   "execution_count": 4,
   "metadata": {},
   "outputs": [],
   "source": [
    "# Créer une instance de sqlUtils\n",
    "db = sqlutils(db_path)"
   ]
  },
  {
   "cell_type": "code",
   "execution_count": 5,
   "metadata": {},
   "outputs": [],
   "source": [
    "# Créer plusieurs tables à partir de schemaDB\n",
    "for k, v in schemaDB.items():\n",
    "    success, message = db.create_table(k, v)\n",
    "    if not success:\n",
    "        print(f\"Erreur lors de la création de la table '{k}': {message}\")"
   ]
  },
  {
   "cell_type": "code",
   "execution_count": 6,
   "metadata": {},
   "outputs": [
    {
     "name": "stdout",
     "output_type": "stream",
     "text": [
      "Successfully loaded 4573 rows from D:\\GitHub\\Friands\\data\\avis_cleaned.csv\n",
      "Successfully loaded 10 rows from D:\\GitHub\\Friands\\data\\restaurants.csv\n",
      "Successfully loaded 10 rows from D:\\GitHub\\Friands\\data\\Geographie.csv\n"
     ]
    }
   ],
   "source": [
    "# Insérer les données\n",
    "for fic in csv_sources:\n",
    "    success, message = db.load_from_csv(fic.split('_')[0].split(\".\")[0],\n",
    "                                        Path.cwd() / f\"../../data/{fic}\")\n",
    "    print(message)"
   ]
  }
 ],
 "metadata": {
  "kernelspec": {
   "display_name": "Python 3",
   "language": "python",
   "name": "python3"
  },
  "language_info": {
   "codemirror_mode": {
    "name": "ipython",
    "version": 3
   },
   "file_extension": ".py",
   "mimetype": "text/x-python",
   "name": "python",
   "nbconvert_exporter": "python",
   "pygments_lexer": "ipython3",
   "version": "3.13.0"
  }
 },
 "nbformat": 4,
 "nbformat_minor": 2
}
