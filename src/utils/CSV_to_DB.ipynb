{
 "cells": [
  {
   "cell_type": "code",
   "execution_count": 1,
   "metadata": {},
   "outputs": [],
   "source": [
    "from sqlutils import sqlutils\n",
    "from schemaDB import schemaDB\n",
    "from pathlib import Path\n",
    "\n",
    "# Importer le module pour interagir avec le notebook\n",
    "from IPython import get_ipython"
   ]
  },
  {
   "cell_type": "code",
   "execution_count": 2,
   "metadata": {},
   "outputs": [],
   "source": [
    "# Obtenir le chemin du notebook\n",
    "notebook_path = get_ipython().starting_dir\n",
    "\n",
    "# Définir le lien vers la base de données en commencant par reculer de deux dossiers\n",
    "db_path = Path(notebook_path).parents[1] / \"data\" / \"friands.db\"\n",
    "\n",
    "# Définir les fichiers csv à importer\n",
    "csv_sources = [\n",
    "    Path(notebook_path).parents[1] / \"data\" / fic\n",
    "    for fic in [\"avis_cleaned.csv\", \"restaurants.csv\", \"Geographie.csv\"]\n",
    "]"
   ]
  },
  {
   "cell_type": "code",
   "execution_count": 3,
   "metadata": {},
   "outputs": [],
   "source": [
    "# Créer une instance de sqlUtils\n",
    "db = sqlutils(db_path)"
   ]
  },
  {
   "cell_type": "code",
   "execution_count": 4,
   "metadata": {},
   "outputs": [],
   "source": [
    "# Créer plusieurs tables à partir de schemaDB\n",
    "for k, v in schemaDB.items():\n",
    "    success, message = db.create_table(k, v)\n",
    "    if not success:\n",
    "        print(f\"Erreur lors de la création de la table '{k}': {message}\")"
   ]
  },
  {
   "cell_type": "markdown",
   "metadata": {},
   "source": [
    "### Import des fichiers csv"
   ]
  },
  {
   "cell_type": "code",
   "execution_count": 5,
   "metadata": {},
   "outputs": [
    {
     "name": "stdout",
     "output_type": "stream",
     "text": [
      "Successfully loaded 4573 rows from 'd:\\GitHub\\Friands\\data\\avis_cleaned.csv' into 'avis'\n",
      "Successfully loaded 10 rows from 'd:\\GitHub\\Friands\\data\\restaurants.csv' into 'restaurants'\n",
      "Successfully loaded 10 rows from 'd:\\GitHub\\Friands\\data\\Geographie.csv' into 'geographie'\n"
     ]
    }
   ],
   "source": [
    "# Insérer les données\n",
    "for fic in csv_sources:\n",
    "    success, message = db.load_from_csv(\n",
    "        fic.name.split(\"_\")[0].split(\".\")[0].lower(), fic\n",
    "    )\n",
    "    if success:\n",
    "        print(message)\n",
    "    else:\n",
    "        print(f\"Erreur lors de l'importation du fichier {fic} : '{message}'\")"
   ]
  }
 ],
 "metadata": {
  "kernelspec": {
   "display_name": "friands",
   "language": "python",
   "name": "python3"
  },
  "language_info": {
   "codemirror_mode": {
    "name": "ipython",
    "version": 3
   },
   "file_extension": ".py",
   "mimetype": "text/x-python",
   "name": "python",
   "nbconvert_exporter": "python",
   "pygments_lexer": "ipython3",
   "version": "3.11.11"
  }
 },
 "nbformat": 4,
 "nbformat_minor": 2
}
