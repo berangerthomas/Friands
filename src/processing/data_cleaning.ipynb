{
 "cells": [
  {
   "cell_type": "code",
   "execution_count": 8,
   "metadata": {},
   "outputs": [],
   "source": [
    "import pandas as pd\n",
    "from pathlib import Path\n",
    "\n",
    "import re\n",
    "from datetime import datetime\n",
    "import locale\n",
    "\n",
    "\n"
   ]
  },
  {
   "cell_type": "code",
   "execution_count": 14,
   "metadata": {},
   "outputs": [
    {
     "name": "stdout",
     "output_type": "stream",
     "text": [
      "Fichier chargé avec 1580 lignes.\n",
      "   id_avis  id_restaurant       nom_utilisateur  note_restaurant  \\\n",
      "0        1              1  Companion43659771362              4.0   \n",
      "1        2              1               klinkou              5.0   \n",
      "2        3              1                 JoCHD              5.0   \n",
      "3        4              1             Tiffany M              5.0   \n",
      "4        5              1           stéphanie c              1.0   \n",
      "\n",
      "                   date_avis                         titre_avis  \\\n",
      "0  Rédigé le 6 décembre 2024  \"Kuma\" ma petite cantine du 6 éme   \n",
      "1   Rédigé le 3 octobre 2024                       Top, allez-y   \n",
      "2    Rédigé le 10 avril 2024                 UNE BONNE SURPRISE   \n",
      "3   Rédigé le 3 février 2024                       Super moment   \n",
      "4      Rédigé le 5 août 2023  Horrible malgré un cadre agréable   \n",
      "\n",
      "                                        contenu_avis  \n",
      "0  Agréable petit restaurant à la déco typique,la...  \n",
      "1  Ce restaurant est une magnifique découverte. L...  \n",
      "2  L'endroit ne paie pas de mine mais les plats s...  \n",
      "3  Un très bon moment, les plats sont très bons e...  \n",
      "4  1ère et dernière fois !!!\\nJ’ai commandé un Do...  \n",
      "Les données prétraitées ont été enregistrées dans ..\\..\\data\\avis.csv.\n"
     ]
    }
   ],
   "source": [
    "# Chemin vers le fichier avis.csv\n",
    "avis_path = Path(\"../../data/avis.csv\")\n",
    "\n",
    "# Charger les données\n",
    "if avis_path.exists():\n",
    "    avis_data = pd.read_csv(avis_path)\n",
    "    print(f\"Fichier chargé avec {len(avis_data)} lignes.\")\n",
    "else:\n",
    "    raise FileNotFoundError(f\"Le fichier {avis_path} n'existe pas.\")\n",
    "\n",
    "# Réinitialiser les ID des avis\n",
    "avis_data[\"id_avis\"] = range(1, len(avis_data) + 1)\n",
    "\n",
    "# Afficher les premières lignes pour vérifier\n",
    "print(avis_data.head())\n",
    "\n",
    "# Sauvegarder les données prétraitées dans le même fichier ou un nouveau fichier\n",
    "avis_data.to_csv(avis_path, index=False, encoding=\"utf-8\")\n",
    "print(f\"Les données prétraitées ont été enregistrées dans {avis_path}.\")\n"
   ]
  },
  {
   "cell_type": "code",
   "execution_count": 16,
   "metadata": {},
   "outputs": [],
   "source": [
    "# Assurez-vous de configurer la langue locale en français pour reconnaître les mois en français\n",
    "#locale.setlocale(locale.LC_TIME, 'fr_FR.UTF-8')  # Pour Linux/Mac\n",
    "locale.setlocale(locale.LC_TIME, 'French_France.1252')  # Pour Windows, si nécessaire\n",
    "\n",
    "def preprocess_avis(data: pd.DataFrame) -> pd.DataFrame:\n",
    "    \"\"\"\n",
    "    Nettoie et restructure les données des avis.\n",
    "    \n",
    "    Args:\n",
    "        data (pd.DataFrame): Le DataFrame contenant les avis.\n",
    "    \n",
    "    Returns:\n",
    "        pd.DataFrame: Le DataFrame nettoyé et restructuré.\n",
    "    \"\"\"\n",
    "    # Nettoyage des noms de colonnes\n",
    "    data.columns = [col.strip() for col in data.columns]\n",
    "    \n",
    "    # Suppression des espaces et ponctuations bizarres dans les champs texte\n",
    "    def clean_text(text):\n",
    "        if isinstance(text, str):\n",
    "            text = re.sub(r'\\s+', ' ', text)  # Réduit plusieurs espaces à un seul\n",
    "            text = re.sub(r'[\\\"\\'”“‘’]', '', text)  # Supprime les guillemets bizarres\n",
    "            text = text.strip()  # Supprime les espaces en début et fin\n",
    "        return text\n",
    "    \n",
    "    # Appliquer clean_text aux colonnes texte\n",
    "    for col in ['nom_utilisateur', 'titre_avis', 'contenu_avis']:\n",
    "        if col in data.columns:\n",
    "            data[col] = data[col].apply(clean_text)\n",
    "    \n",
    "    # Conversion de la date_avis au format datetime\n",
    "    if 'date_avis' in data.columns:\n",
    "        def parse_date(date):\n",
    "            try:\n",
    "                # Supprimer \"Rédigé le \" et convertir la date\n",
    "                cleaned_date = re.sub(r'^Rédigé le ', '', date).strip()\n",
    "                return datetime.strptime(cleaned_date, '%d %B %Y')  # Format français : 6 décembre 2024\n",
    "            except ValueError:\n",
    "                return pd.NaT  # Retourne NaT si le parsing échoue\n",
    "        \n",
    "        data['date_avis'] = data['date_avis'].apply(parse_date)\n",
    "    \n",
    "    # Réinitialisation des IDs d'avis\n",
    "    if 'id_avis' in data.columns:\n",
    "        data['id_avis'] = range(1, len(data) + 1)\n",
    "    \n",
    "    return data\n"
   ]
  },
  {
   "cell_type": "code",
   "execution_count": 17,
   "metadata": {},
   "outputs": [
    {
     "name": "stdout",
     "output_type": "stream",
     "text": [
      "   id_avis  id_restaurant       nom_utilisateur  note_restaurant  date_avis  \\\n",
      "0        1              1  Companion43659771362              4.0 2024-12-06   \n",
      "1        2              1               klinkou              5.0 2024-10-03   \n",
      "2        3              1                 JoCHD              5.0 2024-04-10   \n",
      "3        4              1             Tiffany M              5.0 2024-02-03   \n",
      "4        5              1           stéphanie c              1.0 2023-08-05   \n",
      "\n",
      "                          titre_avis  \\\n",
      "0    Kuma ma petite cantine du 6 éme   \n",
      "1                       Top, allez-y   \n",
      "2                 UNE BONNE SURPRISE   \n",
      "3                       Super moment   \n",
      "4  Horrible malgré un cadre agréable   \n",
      "\n",
      "                                        contenu_avis  \n",
      "0  Agréable petit restaurant à la déco typique,la...  \n",
      "1  Ce restaurant est une magnifique découverte. L...  \n",
      "2  Lendroit ne paie pas de mine mais les plats so...  \n",
      "3  Un très bon moment, les plats sont très bons e...  \n",
      "4  1ère et dernière fois !!! Jai commandé un Donb...  \n"
     ]
    }
   ],
   "source": [
    "# Appliquer le prétraitement\n",
    "avis_cleaned = preprocess_avis(avis_data)\n",
    "\n",
    "# Vérification rapide des résultats\n",
    "print(avis_cleaned.head())\n",
    "\n"
   ]
  },
  {
   "cell_type": "code",
   "execution_count": 18,
   "metadata": {},
   "outputs": [
    {
     "name": "stdout",
     "output_type": "stream",
     "text": [
      "Données nettoyées sauvegardées dans ..\\..\\data\\avis_cleaned.csv.\n"
     ]
    }
   ],
   "source": [
    "# Définir le chemin pour le nouveau fichier\n",
    "avis_path_cleaned = Path(\"../../data/avis_cleaned.csv\")\n",
    "\n",
    "# Sauvegarder les données nettoyées dans un nouveau fichier\n",
    "avis_cleaned.to_csv(avis_path_cleaned, index=False, encoding=\"utf-8\")\n",
    "print(f\"Données nettoyées sauvegardées dans {avis_path_cleaned}.\")\n"
   ]
  },
  {
   "cell_type": "code",
   "execution_count": null,
   "metadata": {},
   "outputs": [],
   "source": []
  }
 ],
 "metadata": {
  "kernelspec": {
   "display_name": "env",
   "language": "python",
   "name": "python3"
  },
  "language_info": {
   "codemirror_mode": {
    "name": "ipython",
    "version": 3
   },
   "file_extension": ".py",
   "mimetype": "text/x-python",
   "name": "python",
   "nbconvert_exporter": "python",
   "pygments_lexer": "ipython3",
   "version": "3.11.0"
  }
 },
 "nbformat": 4,
 "nbformat_minor": 2
}
