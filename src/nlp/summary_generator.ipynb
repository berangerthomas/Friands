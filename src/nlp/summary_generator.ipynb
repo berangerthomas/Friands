{
 "cells": [
  {
   "cell_type": "code",
   "execution_count": 13,
   "metadata": {},
   "outputs": [],
   "source": [
    "from mistralai import Mistral\n",
    "import os\n",
    "import pandas as pd\n",
    "from pathlib import Path\n",
    "from sqlutils import sqlutils\n",
    "import time"
   ]
  },
  {
   "cell_type": "code",
   "execution_count": 14,
   "metadata": {},
   "outputs": [],
   "source": [
    "class MistralAPI:\n",
    "    \"\"\"\n",
    "    A client for interacting with the MistralAI API.\n",
    "\n",
    "    Attributes:\n",
    "        client (Mistral): The Mistral client instance.\n",
    "        model (str): The model to use for queries.\n",
    "    \"\"\"\n",
    "\n",
    "    def __init__(self, model: str) -> None:\n",
    "        \"\"\"\n",
    "        Initializes the MistralAPI with the given model.\n",
    "\n",
    "        Args:\n",
    "            model (str): The model to use for queries.\n",
    "\n",
    "        Raises:\n",
    "            ValueError: If the MISTRAL_API_KEY environment variable is not set.\n",
    "        \"\"\"\n",
    "        api_key = os.getenv(\"MISTRAL_API_KEY\")\n",
    "        if not api_key:\n",
    "            raise ValueError(\n",
    "                \"No MISTRAL_API_KEY as environment variable, please set it!\"\n",
    "            )\n",
    "        self.client = Mistral(api_key=api_key)\n",
    "        self.model = model\n",
    "\n",
    "    def query(self, query: str, temperature: float = 0.5) -> str:\n",
    "        \"\"\"\n",
    "        Sends a query to the MistralAI API and returns the response.\n",
    "\n",
    "        Args:\n",
    "            query (str): The input query to send to the model.\n",
    "            temperature (float, optional): The temperature parameter for controlling\n",
    "                                          the randomness of the output. Defaults to 0.5.\n",
    "\n",
    "        Returns:\n",
    "            str: The response from the API.\n",
    "        \"\"\"\n",
    "        chat_response = self.client.chat.complete(\n",
    "            model=self.model,\n",
    "            temperature=temperature,\n",
    "            messages=[\n",
    "                {\n",
    "                    \"role\": \"user\",\n",
    "                    \"content\": query,\n",
    "                },\n",
    "            ],\n",
    "        )\n",
    "        return chat_response.choices[0].message.content"
   ]
  },
  {
   "cell_type": "code",
   "execution_count": 15,
   "metadata": {},
   "outputs": [
    {
     "name": "stdout",
     "output_type": "stream",
     "text": [
      "Date minimum: 2023-07-14\n",
      "Extraction de 416 enregistrements depuis la base de données réussie\n"
     ]
    }
   ],
   "source": [
    "# Déterminer le chemin du script\n",
    "script_path = Path().resolve()\n",
    "\n",
    "# # Select des avis depuis la base de données et depuis le chemin du script\n",
    "bdd = sqlutils(script_path / \"../../data/friands.db\")\n",
    "# Déterminer la date du jour puis la date du jour moins 18 mois\n",
    "date_min = pd.Timestamp.now() - pd.DateOffset(months=18)\n",
    "# Convertir la date en YYYY-MM-DD\n",
    "date_min = date_min.strftime(\"%Y-%m-%d\")\n",
    "print(f\"Date minimum: {date_min}\")\n",
    "# Extraire tous les avis dont la date est supérieure à date_min\n",
    "query = f\"SELECT * FROM avis WHERE date_avis >= '{date_min}'\"\n",
    "success, t_avis = bdd.select(query)\n",
    "\n",
    "if not success:\n",
    "    print(\"Erreur lors de l'extraction des avis depuis la base de données\")\n",
    "    print(t_avis)\n",
    "else:\n",
    "    print(\n",
    "        f\"Extraction de {len(t_avis)} enregistrements depuis la base de données réussie\"\n",
    "    )\n",
    "\n",
    "# # Insérer les champs extraits de la base de données dans un dataframe\n",
    "df = pd.DataFrame(\n",
    "    t_avis,\n",
    "    columns=[\n",
    "        \"id_avis\",\n",
    "        \"id_restaurant\",\n",
    "        \"nom_utilisateur\",\n",
    "        \"note_restaurant\",\n",
    "        \"date_avis\",\n",
    "        \"titre_avis\",\n",
    "        \"contenu_avis\",\n",
    "        \"label\",\n",
    "    ],\n",
    ")"
   ]
  },
  {
   "cell_type": "code",
   "execution_count": 16,
   "metadata": {},
   "outputs": [],
   "source": [
    "# Sélectionner les id_restaurant et les noms des restaurants depuis la table restaurant\n",
    "success, t_resto = bdd.select(\"SELECT id_restaurant, nom FROM restaurants\")\n",
    "\n",
    "if not success:\n",
    "    print(\n",
    "        \"Erreur lors de l'extraction des informations des restaurants depuis la base de données\"\n",
    "    )\n",
    "    print(t_resto)\n",
    "else:\n",
    "    # Ajouter les infos au dataframe df\n",
    "    df_resto = pd.DataFrame(t_resto, columns=[\"id_restaurant\", \"nom_restaurant\"])\n",
    "    df = pd.merge(df, df_resto, on=\"id_restaurant\")"
   ]
  },
  {
   "cell_type": "code",
   "execution_count": 17,
   "metadata": {},
   "outputs": [],
   "source": [
    "# joindre tous les avis pour un restaurant donné\n",
    "df_grouped = (\n",
    "    df.groupby(\"id_restaurant\")\n",
    "    .agg(\n",
    "        {\n",
    "            \"nom_restaurant\": \"first\",\n",
    "            \"contenu_avis\": lambda x: \" --- \".join(x),\n",
    "        }\n",
    "    )\n",
    "    .reset_index()\n",
    ")"
   ]
  },
  {
   "cell_type": "code",
   "execution_count": 18,
   "metadata": {},
   "outputs": [],
   "source": [
    "os.environ[\"MISTRAL_API_KEY\"] = \"\""
   ]
  },
  {
   "cell_type": "code",
   "execution_count": 19,
   "metadata": {},
   "outputs": [],
   "source": [
    "# Lister tous les modèles accessibles depuis l'API Mistral\n",
    "from mistralai import Mistral\n",
    "import os\n",
    "\n",
    "with Mistral(\n",
    "    api_key=os.getenv(\"MISTRAL_API_KEY\", \"\"),\n",
    ") as mistral:\n",
    "\n",
    "    liste_modeles = mistral.models.list()\n",
    "\n",
    "    assert liste_modeles is not None"
   ]
  },
  {
   "cell_type": "code",
   "execution_count": 20,
   "metadata": {},
   "outputs": [
    {
     "name": "stdout",
     "output_type": "stream",
     "text": [
      "id du modèle : codestral-2501 - nb de caractères max pour l'input : 262144\n",
      "id du modèle : codestral-latest - nb de caractères max pour l'input : 262144\n",
      "id du modèle : codestral-2412 - nb de caractères max pour l'input : 262144\n",
      "id du modèle : codestral-2411-rc5 - nb de caractères max pour l'input : 262144\n",
      "id du modèle : codestral-mamba-2407 - nb de caractères max pour l'input : 262144\n",
      "id du modèle : open-codestral-mamba - nb de caractères max pour l'input : 262144\n",
      "id du modèle : codestral-mamba-latest - nb de caractères max pour l'input : 262144\n",
      "id du modèle : ministral-3b-2410 - nb de caractères max pour l'input : 131072\n",
      "id du modèle : ministral-3b-latest - nb de caractères max pour l'input : 131072\n",
      "id du modèle : ministral-8b-2410 - nb de caractères max pour l'input : 131072\n",
      "id du modèle : ministral-8b-latest - nb de caractères max pour l'input : 131072\n",
      "id du modèle : open-mistral-nemo - nb de caractères max pour l'input : 131072\n",
      "id du modèle : open-mistral-nemo-2407 - nb de caractères max pour l'input : 131072\n",
      "id du modèle : mistral-tiny-2407 - nb de caractères max pour l'input : 131072\n",
      "id du modèle : mistral-tiny-latest - nb de caractères max pour l'input : 131072\n",
      "id du modèle : mistral-large-2407 - nb de caractères max pour l'input : 131072\n",
      "id du modèle : mistral-large-2411 - nb de caractères max pour l'input : 131072\n",
      "id du modèle : mistral-large-latest - nb de caractères max pour l'input : 131072\n",
      "id du modèle : pixtral-large-2411 - nb de caractères max pour l'input : 131072\n",
      "id du modèle : pixtral-large-latest - nb de caractères max pour l'input : 131072\n",
      "id du modèle : pixtral-12b-2409 - nb de caractères max pour l'input : 131072\n",
      "id du modèle : pixtral-12b - nb de caractères max pour l'input : 131072\n",
      "id du modèle : pixtral-12b-latest - nb de caractères max pour l'input : 131072\n",
      "id du modèle : open-mixtral-8x22b - nb de caractères max pour l'input : 65536\n",
      "id du modèle : open-mixtral-8x22b-2404 - nb de caractères max pour l'input : 65536\n",
      "id du modèle : open-mistral-7b - nb de caractères max pour l'input : 32768\n",
      "id du modèle : mistral-tiny - nb de caractères max pour l'input : 32768\n",
      "id du modèle : mistral-tiny-2312 - nb de caractères max pour l'input : 32768\n",
      "id du modèle : open-mixtral-8x7b - nb de caractères max pour l'input : 32768\n",
      "id du modèle : mistral-small - nb de caractères max pour l'input : 32768\n",
      "id du modèle : mistral-small-2312 - nb de caractères max pour l'input : 32768\n",
      "id du modèle : mistral-small-2402 - nb de caractères max pour l'input : 32768\n",
      "id du modèle : mistral-small-2409 - nb de caractères max pour l'input : 32768\n",
      "id du modèle : mistral-small-latest - nb de caractères max pour l'input : 32768\n",
      "id du modèle : mistral-medium-2312 - nb de caractères max pour l'input : 32768\n",
      "id du modèle : mistral-medium - nb de caractères max pour l'input : 32768\n",
      "id du modèle : mistral-medium-latest - nb de caractères max pour l'input : 32768\n",
      "id du modèle : mistral-large-2402 - nb de caractères max pour l'input : 32768\n",
      "id du modèle : codestral-2405 - nb de caractères max pour l'input : 32768\n",
      "id du modèle : mistral-embed - nb de caractères max pour l'input : 32768\n",
      "id du modèle : mistral-moderation-2411 - nb de caractères max pour l'input : 32768\n",
      "id du modèle : mistral-moderation-latest - nb de caractères max pour l'input : 32768\n"
     ]
    }
   ],
   "source": [
    "# Lister les modèles contenus dans res.data par ordre de max_context_length\n",
    "liste_modeles_tri = sorted(\n",
    "    liste_modeles.data, key=lambda x: x.max_context_length, reverse=True\n",
    ")\n",
    "\n",
    "for modele in liste_modeles_tri:\n",
    "    print(\n",
    "        f\"id du modèle : {modele.id} - nb de caractères max pour l'input : {modele.max_context_length}\"\n",
    "    )"
   ]
  },
  {
   "cell_type": "markdown",
   "metadata": {},
   "source": [
    "### Choix du modèle"
   ]
  },
  {
   "cell_type": "code",
   "execution_count": 21,
   "metadata": {},
   "outputs": [
    {
     "name": "stdout",
     "output_type": "stream",
     "text": [
      "Modèle sélectionné : pixtral-large-latest. Longueur de prompt maximale : 131072\n"
     ]
    }
   ],
   "source": [
    "# Mettre un modèle basé sur la liste précédente\n",
    "model = \"pixtral-large-latest\"\n",
    "# model = \"codestral-latest\"\n",
    "\n",
    "\n",
    "# Instanciation de la classe MistralAPI\n",
    "\n",
    "\n",
    "model_mistral = MistralAPI(model=model)\n",
    "\n",
    "\n",
    "# Définition du nombre de caractère max\n",
    "\n",
    "\n",
    "model_max_length = [m.max_context_length for m in liste_modeles_tri if m.id == model][0]\n",
    "\n",
    "\n",
    "# Résumé\n",
    "\n",
    "\n",
    "print(f\"Modèle sélectionné : {model}. Longueur de prompt maximale : {model_max_length}\")"
   ]
  },
  {
   "cell_type": "code",
   "execution_count": 22,
   "metadata": {},
   "outputs": [
    {
     "name": "stdout",
     "output_type": "stream",
     "text": [
      "Restaurant: KUMA cantine\n",
      "Résumé: Le restaurant, tenu par un couple charmant, séduit par sa décoration typique et sa cuisine maison savoureuse. Les clients apprécient particulièrement la soupe aux nouilles froides, les gyoza, le ramen et les desserts comme les cookies au matcha et le tiramisu au thé matcha. Le service est rapide et agréable, et les prix sont jugés raisonnables. Cependant, une expérience négative a été rapportée concernant un plat de saumon, jugé de mauvaise qualité et mal préparé, laissant une impression de mépris pour le client. Malgré cet incident, le restaurant est globalement recommandé pour la qualité de ses plats et l'accueil chaleureux.\n",
      "\n",
      "\n",
      "Restaurant: Mattsam Restaurant Messob\n",
      "Résumé: Le restaurant offre une expérience culinaire immersive et mémorable de la cuisine éthiopienne, idéale pour les amateurs de saveurs exotiques ou les curieux. Le cadre est dépaysant avec une décoration soignée, et le personnel est accueillant et sympathique, offrant un service impeccable. Les plats, souvent servis sur de grandes galettes, sont goûteux et bien assaisonnés, bien que parfois un peu gras. La formule découverte permet de savourer une variété de mets typiques, faisant de chaque visite un moment de partage et de découverte. Les clients recommandent vivement ce restaurant pour une soirée réussie et enrichissante.\n",
      "\n",
      "\n",
      "Restaurant: Brasserie des Confluences\n",
      "Résumé: La brasserie située au musée des Confluences à Lyon offre une expérience culinaire globalement positive, malgré quelques bémols. Le cadre est souvent décrit comme magnifique et agréable, avec un service généralement apprécié pour son efficacité et sa sympathie. Les plats sont souvent jugés savoureux et bien présentés, bien que certains clients aient noté des problèmes de température ou de goût. Le rapport qualité-prix est souvent mentionné comme raisonnable, et le parking gratuit est un atout apprécié. Cependant, certains avis soulignent des déceptions ponctuelles, comme des plats froids, des desserts décevants ou des boissons médiocres. Dans l'ensemble, la brasserie est recommandée pour son ambiance et sa cuisine, mais certains aspects peuvent encore être améliorés pour une expérience parfaite.\n",
      "\n",
      "\n",
      "Restaurant: Christian Tetedoie\n",
      "Résumé: Le restaurant offre une vue imprenable sur Lyon, ce qui est souvent le point fort mentionné par les clients. La cuisine est généralement appréciée pour sa qualité et sa créativité, bien que certains plats soient parfois jugés décevants ou mal équilibrés en termes de saveurs. Le service est inégal : certains clients louent le professionnalisme et l'attention du personnel, tandis que d'autres déplorent un manque de coordination, de chaleur et de professionnalisme. Les avis divergent également sur le rapport qualité-prix, certains trouvant l'expérience justifiée par la qualité des mets et du cadre, d'autres la jugeant trop coûteuse pour ce qui est offert. En résumé, le restaurant semble avoir un potentiel élevé mais souffre de problèmes de constance dans le service et la qualité des plats.\n",
      "\n",
      "\n",
      "Restaurant: Gang Nam\n",
      "Résumé: Le restaurant, une institution culinaire coréenne, séduit par sa cuisine savoureuse et son cadre agréable. Les clients apprécient particulièrement le barbecue coréen, notamment le bœuf mariné, et la qualité des plats, bien que certains trouvent les assaisonnements trop salés ou fades. Le service est généralement jugé attentionné et compétent, mais quelques avis mentionnent un accueil froid et un manque d'explications sur les plats. Les prix sont perçus comme moyens à élevés, avec des avis mitigés sur le rapport qualité-prix. En somme, une adresse à découvrir pour les amateurs de cuisine asiatique, malgré quelques déceptions ponctuelles.\n",
      "\n",
      "\n",
      "Restaurant: Crêperie La Marie Morgane\n",
      "Résumé: Le restaurant, réputé pour ses délicieuses galettes et crêpes, offre un cadre chaleureux et une ambiance conviviale rappelant les vacances en Bretagne. Le service est généralement rapide et agréable, bien que la gestion des réservations puisse parfois poser problème, notamment en raison de l'attitude de la propriétaire. Les clients apprécient la qualité des plats, sucrés ou salés, et la diversité des choix, y compris des options végétariennes. Cependant, l'espace peut être restreint et bruyant, rendant les conversations privées difficiles. Malgré ces inconvénients, la qualité de la nourriture et l'accueil chaleureux incitent de nombreux clients à revenir.\n",
      "\n",
      "\n",
      "Restaurant: Fiston - Bouchon Lyonnais\n",
      "Résumé: Le restaurant en question, situé dans le vieux Lyon, offre une expérience culinaire variée selon les avis des clients. Certains apprécient l'accueil chaleureux et le service efficace, soulignant la qualité des plats traditionnels lyonnais, tels que la quenelle de brochet, la soupe à l'oignon et les spécialités locales. La convivialité et l'ambiance typique d'un bouchon lyonnais sont souvent mentionnées positivement. Cependant, quelques clients ont exprimé des déceptions concernant certains plats trop salés ou des désagréments liés à l'attente et au service, notamment les week-ends. Globalement, le restaurant semble être une bonne adresse pour découvrir la cuisine lyonnaise, avec des prix raisonnables et un cadre agréable, malgré quelques bémols occasionnels.\n",
      "\n",
      "\n",
      "Restaurant: Les Terrasses de Lyon\n",
      "Résumé: Le restaurant, bien que situé dans un cadre magnifique avec une vue imprenable sur Lyon, offre une expérience mitigée. Le service est souvent critiqué pour son manque de professionnalisme et de coordination, avec des attentes prolongées et des erreurs fréquentes. La cuisine, bien que parfois raffinée et savoureuse, ne répond pas toujours aux attentes élevées des clients, notamment en termes de saveurs et de présentation. Les avis divergent sur la qualité des plats, certains trouvant la cuisine excellente tandis que d'autres la jugent décevante. Le rapport qualité-prix est également un point de discorde, avec des tarifs jugés excessifs par rapport à la prestation offerte. En résumé, malgré un cadre exceptionnel, le restaurant peine à convaincre pleinement, tant sur le plan du service que de la cuisine.\n",
      "\n",
      "\n",
      "Restaurant: Empanadas Club\n",
      "Résumé: Le restaurant est unanimement apprécié pour son ambiance chaleureuse et conviviale, inspirée de l'Argentine, avec une décoration soignée et une musique latine entraînante. Les empanadas, spécialité de la maison, sont décrits comme délicieux, variés et bien préparés, offrant un véritable voyage gustatif. Le service est généralement rapide et efficace, avec un personnel souriant, accueillant et attentif, contribuant à une expérience agréable. Les cocktails et les desserts sont également bien notés. Le rapport qualité-prix est jugé correct, bien que certains clients mentionnent des petits bémols comme le bruit ou des désagréments ponctuels. Globalement, le restaurant est recommandé pour passer un bon moment entre amis ou en famille, avec une mention spéciale pour l'ambiance festive en soirée et la piste de danse au sous-sol.\n",
      "\n",
      "\n",
      "Restaurant: Kenbo\n",
      "Résumé: Le restaurant Kenbo est une véritable pépite culinaire, offrant une cuisine asiatique savoureuse et fraîche, avec des plats faits maison qui ravissent les papilles. La décoration florale et bariolée crée une ambiance agréable, et le personnel est généralement souriant, accueillant et efficace, bien que le service puisse parfois être un peu long le soir. Les clients apprécient particulièrement les nems, les rouleaux de printemps, le bo bun, le pad thaï et les perles de coco en dessert. Les portions sont jugées correctes, mais certains trouvent les prix un peu élevés. Situé près du cinéma Comoedia, Kenbo est une adresse idéale pour une soirée réussie, bien que la réservation soit recommandée en raison de sa popularité et de son nombre limité de places.\n",
      "\n",
      "\n"
     ]
    }
   ],
   "source": [
    "def split_text(text, max_length):\n",
    "    \"\"\"\n",
    "    Splits the text into chunks of maximum length.\n",
    "    \"\"\"\n",
    "    words = text.split()\n",
    "    for i in range(0, len(words), max_length):\n",
    "        yield \" \".join(words[i : i + max_length])\n",
    "\n",
    "\n",
    "query = \"Analyser ces avis de clients concernant un restaurant, puis produire un unique résumé de ces avis, court mais riche d'informations. Ne pas produire de liste de points positifs ou négatifs, ni .\"\n",
    "temperature = 0.1\n",
    "\n",
    "for index, row in df_grouped.iterrows():\n",
    "    reviews = row[\"contenu_avis\"]\n",
    "    chunks = list(\n",
    "        split_text(reviews, model_max_length)\n",
    "    )  # Adjust the chunk size as needed\n",
    "    summaries = []\n",
    "    for chunk in chunks:\n",
    "        summary = model_mistral.query(f\"{query} : '{chunk}'\", temperature=temperature)\n",
    "        summaries.append(summary)\n",
    "    full_summary = \" \".join(summaries)\n",
    "    print(f\"Restaurant: {row['nom_restaurant']}\")\n",
    "    print(f\"Résumé: {full_summary}\")\n",
    "    print(\"\\n\")\n",
    "\n",
    "    # Ajouter le résumé à df_grouped\n",
    "    df_grouped.loc[index, \"resume\"] = full_summary\n",
    "\n",
    "    # Marquer une pause de 10 secondes pour ne pas saturer l'API\n",
    "    time.sleep(10)"
   ]
  },
  {
   "cell_type": "markdown",
   "metadata": {},
   "source": [
    "### Mettre à jour la base de données"
   ]
  },
  {
   "cell_type": "code",
   "execution_count": 23,
   "metadata": {},
   "outputs": [
    {
     "name": "stdout",
     "output_type": "stream",
     "text": [
      "Résumé inséré pour le restaurant 1 (1 row(s) successfully updated)\n",
      "Résumé inséré pour le restaurant 2 (1 row(s) successfully updated)\n",
      "Résumé inséré pour le restaurant 3 (1 row(s) successfully updated)\n",
      "Résumé inséré pour le restaurant 4 (1 row(s) successfully updated)\n",
      "Résumé inséré pour le restaurant 5 (1 row(s) successfully updated)\n",
      "Résumé inséré pour le restaurant 6 (1 row(s) successfully updated)\n",
      "Résumé inséré pour le restaurant 7 (1 row(s) successfully updated)\n",
      "Résumé inséré pour le restaurant 8 (1 row(s) successfully updated)\n",
      "Résumé inséré pour le restaurant 9 (1 row(s) successfully updated)\n",
      "Résumé inséré pour le restaurant 10 (1 row(s) successfully updated)\n"
     ]
    }
   ],
   "source": [
    "# Updater les résumés dans la base de données\n",
    "for index, row in df_grouped.iterrows():\n",
    "    success, t_insert = bdd.update(\n",
    "        table_name=\"restaurants\",\n",
    "        data={\"summary\": row[\"resume\"]},\n",
    "        where=[f\"id_restaurant = '{row['id_restaurant']}'\"],\n",
    "    )\n",
    "\n",
    "    if not success:\n",
    "        bdd.rollback()\n",
    "        print(\n",
    "            f\"Erreur lors de l'insertion du résumé pour le restaurant {row['id_restaurant']} : {t_insert}\"\n",
    "        )\n",
    "        print(t_insert)\n",
    "    else:\n",
    "        bdd.commit()\n",
    "        print(f\"Résumé inséré pour le restaurant {row['id_restaurant']} ({t_insert})\")"
   ]
  }
 ],
 "metadata": {
  "kernelspec": {
   "display_name": "friands",
   "language": "python",
   "name": "python3"
  },
  "language_info": {
   "codemirror_mode": {
    "name": "ipython",
    "version": 3
   },
   "file_extension": ".py",
   "mimetype": "text/x-python",
   "name": "python",
   "nbconvert_exporter": "python",
   "pygments_lexer": "ipython3",
   "version": "3.11.11"
  }
 },
 "nbformat": 4,
 "nbformat_minor": 2
}
