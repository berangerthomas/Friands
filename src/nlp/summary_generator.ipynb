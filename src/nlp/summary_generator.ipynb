{
 "cells": [
  {
   "cell_type": "code",
   "execution_count": 1,
   "metadata": {},
   "outputs": [],
   "source": [
    "from mistralai import Mistral\n",
    "import os\n",
    "import pandas as pd\n",
    "from pathlib import Path\n",
    "from sqlutils import sqlutils\n",
    "import time"
   ]
  },
  {
   "cell_type": "code",
   "execution_count": 2,
   "metadata": {},
   "outputs": [],
   "source": [
    "class MistralAPI:\n",
    "    \"\"\"\n",
    "    A client for interacting with the MistralAI API.\n",
    "\n",
    "    Attributes:\n",
    "        client (Mistral): The Mistral client instance.\n",
    "        model (str): The model to use for queries.\n",
    "    \"\"\"\n",
    "\n",
    "    def __init__(self, model: str) -> None:\n",
    "        \"\"\"\n",
    "        Initializes the MistralAPI with the given model.\n",
    "\n",
    "        Args:\n",
    "            model (str): The model to use for queries.\n",
    "\n",
    "        Raises:\n",
    "            ValueError: If the MISTRAL_API_KEY environment variable is not set.\n",
    "        \"\"\"\n",
    "        api_key = os.getenv(\"MISTRAL_API_KEY\")\n",
    "        if not api_key:\n",
    "            raise ValueError(\n",
    "                \"No MISTRAL_API_KEY as environment variable, please set it!\"\n",
    "            )\n",
    "        self.client = Mistral(api_key=api_key)\n",
    "        self.model = model\n",
    "\n",
    "    def query(self, query: str, temperature: float = 0.5) -> str:\n",
    "        \"\"\"\n",
    "        Sends a query to the MistralAI API and returns the response.\n",
    "\n",
    "        Args:\n",
    "            query (str): The input query to send to the model.\n",
    "            temperature (float, optional): The temperature parameter for controlling\n",
    "                                          the randomness of the output. Defaults to 0.5.\n",
    "\n",
    "        Returns:\n",
    "            str: The response from the API.\n",
    "        \"\"\"\n",
    "        chat_response = self.client.chat.complete(\n",
    "            model=self.model,\n",
    "            temperature=temperature,\n",
    "            messages=[\n",
    "                {\n",
    "                    \"role\": \"user\",\n",
    "                    \"content\": query,\n",
    "                },\n",
    "            ],\n",
    "        )\n",
    "        return chat_response.choices[0].message.content"
   ]
  },
  {
   "cell_type": "code",
   "execution_count": 3,
   "metadata": {},
   "outputs": [
    {
     "name": "stdout",
     "output_type": "stream",
     "text": [
      "Date minimum: 2023-07-15\n",
      "Extraction de 415 enregistrements depuis la base de données réussie\n"
     ]
    }
   ],
   "source": [
    "# Déterminer le chemin du script\n",
    "script_path = Path().resolve()\n",
    "\n",
    "# # Select des avis depuis la base de données et depuis le chemin du script\n",
    "bdd = sqlutils(script_path / \"../../data/friands.db\")\n",
    "# Déterminer la date du jour puis la date du jour moins 18 mois\n",
    "date_min = pd.Timestamp.now() - pd.DateOffset(months=18)\n",
    "# Convertir la date en YYYY-MM-DD\n",
    "date_min = date_min.strftime(\"%Y-%m-%d\")\n",
    "print(f\"Date minimum: {date_min}\")\n",
    "# Extraire tous les avis dont la date est supérieure à date_min\n",
    "query = f\"SELECT * FROM avis WHERE date_avis >= '{date_min}'\"\n",
    "success, t_avis = bdd.select(query)\n",
    "\n",
    "if not success:\n",
    "    print(\"Erreur lors de l'extraction des avis depuis la base de données\")\n",
    "    print(t_avis)\n",
    "else:\n",
    "    print(\n",
    "        f\"Extraction de {len(t_avis)} enregistrements depuis la base de données réussie\"\n",
    "    )\n",
    "\n",
    "# # Insérer les champs extraits de la base de données dans un dataframe\n",
    "df = pd.DataFrame(\n",
    "    t_avis,\n",
    "    columns=[\n",
    "        \"id_avis\",\n",
    "        \"id_restaurant\",\n",
    "        \"nom_utilisateur\",\n",
    "        \"note_restaurant\",\n",
    "        \"date_avis\",\n",
    "        \"titre_avis\",\n",
    "        \"contenu_avis\",\n",
    "        \"label\",\n",
    "    ],\n",
    ")"
   ]
  },
  {
   "cell_type": "code",
   "execution_count": 4,
   "metadata": {},
   "outputs": [],
   "source": [
    "# Sélectionner les id_restaurant et les noms des restaurants depuis la table restaurant\n",
    "success, t_resto = bdd.select(\"SELECT id_restaurant, nom FROM restaurants\")\n",
    "\n",
    "if not success:\n",
    "    print(\n",
    "        \"Erreur lors de l'extraction des informations des restaurants depuis la base de données\"\n",
    "    )\n",
    "    print(t_resto)\n",
    "else:\n",
    "    # Ajouter les infos au dataframe df\n",
    "    df_resto = pd.DataFrame(t_resto, columns=[\"id_restaurant\", \"nom_restaurant\"])\n",
    "    df = pd.merge(df, df_resto, on=\"id_restaurant\")"
   ]
  },
  {
   "cell_type": "code",
   "execution_count": 5,
   "metadata": {},
   "outputs": [],
   "source": [
    "# joindre tous les avis pour un restaurant donné\n",
    "df_grouped = (\n",
    "    df.groupby(\"id_restaurant\")\n",
    "    .agg(\n",
    "        {\n",
    "            \"nom_restaurant\": \"first\",\n",
    "            \"contenu_avis\": lambda x: \" --- \".join(x),\n",
    "        }\n",
    "    )\n",
    "    .reset_index()\n",
    ")"
   ]
  },
  {
   "cell_type": "code",
   "execution_count": 6,
   "metadata": {},
   "outputs": [],
   "source": [
    "os.environ[\"MISTRAL_API_KEY\"] = \"ICTv6vD2bgvtkHgjrwNxxLIL82VSxUs0\""
   ]
  },
  {
   "cell_type": "code",
   "execution_count": 7,
   "metadata": {},
   "outputs": [],
   "source": [
    "# Lister tous les modèles accessibles depuis l'API Mistral\n",
    "from mistralai import Mistral\n",
    "import os\n",
    "\n",
    "with Mistral(\n",
    "    api_key=os.getenv(\"MISTRAL_API_KEY\", \"\"),\n",
    ") as mistral:\n",
    "\n",
    "    liste_modeles = mistral.models.list()\n",
    "\n",
    "    assert liste_modeles is not None"
   ]
  },
  {
   "cell_type": "code",
   "execution_count": 8,
   "metadata": {},
   "outputs": [
    {
     "name": "stdout",
     "output_type": "stream",
     "text": [
      "id du modèle : codestral-2501 - nb de caractères max pour l'input : 262144\n",
      "id du modèle : codestral-latest - nb de caractères max pour l'input : 262144\n",
      "id du modèle : codestral-2412 - nb de caractères max pour l'input : 262144\n",
      "id du modèle : codestral-2411-rc5 - nb de caractères max pour l'input : 262144\n",
      "id du modèle : codestral-mamba-2407 - nb de caractères max pour l'input : 262144\n",
      "id du modèle : open-codestral-mamba - nb de caractères max pour l'input : 262144\n",
      "id du modèle : codestral-mamba-latest - nb de caractères max pour l'input : 262144\n",
      "id du modèle : ministral-3b-2410 - nb de caractères max pour l'input : 131072\n",
      "id du modèle : ministral-3b-latest - nb de caractères max pour l'input : 131072\n",
      "id du modèle : ministral-8b-2410 - nb de caractères max pour l'input : 131072\n",
      "id du modèle : ministral-8b-latest - nb de caractères max pour l'input : 131072\n",
      "id du modèle : open-mistral-nemo - nb de caractères max pour l'input : 131072\n",
      "id du modèle : open-mistral-nemo-2407 - nb de caractères max pour l'input : 131072\n",
      "id du modèle : mistral-tiny-2407 - nb de caractères max pour l'input : 131072\n",
      "id du modèle : mistral-tiny-latest - nb de caractères max pour l'input : 131072\n",
      "id du modèle : mistral-large-2407 - nb de caractères max pour l'input : 131072\n",
      "id du modèle : mistral-large-2411 - nb de caractères max pour l'input : 131072\n",
      "id du modèle : mistral-large-latest - nb de caractères max pour l'input : 131072\n",
      "id du modèle : pixtral-large-2411 - nb de caractères max pour l'input : 131072\n",
      "id du modèle : pixtral-large-latest - nb de caractères max pour l'input : 131072\n",
      "id du modèle : pixtral-12b-2409 - nb de caractères max pour l'input : 131072\n",
      "id du modèle : pixtral-12b - nb de caractères max pour l'input : 131072\n",
      "id du modèle : pixtral-12b-latest - nb de caractères max pour l'input : 131072\n",
      "id du modèle : open-mixtral-8x22b - nb de caractères max pour l'input : 65536\n",
      "id du modèle : open-mixtral-8x22b-2404 - nb de caractères max pour l'input : 65536\n",
      "id du modèle : open-mistral-7b - nb de caractères max pour l'input : 32768\n",
      "id du modèle : mistral-tiny - nb de caractères max pour l'input : 32768\n",
      "id du modèle : mistral-tiny-2312 - nb de caractères max pour l'input : 32768\n",
      "id du modèle : open-mixtral-8x7b - nb de caractères max pour l'input : 32768\n",
      "id du modèle : mistral-small - nb de caractères max pour l'input : 32768\n",
      "id du modèle : mistral-small-2312 - nb de caractères max pour l'input : 32768\n",
      "id du modèle : mistral-small-2402 - nb de caractères max pour l'input : 32768\n",
      "id du modèle : mistral-small-2409 - nb de caractères max pour l'input : 32768\n",
      "id du modèle : mistral-small-latest - nb de caractères max pour l'input : 32768\n",
      "id du modèle : mistral-medium-2312 - nb de caractères max pour l'input : 32768\n",
      "id du modèle : mistral-medium - nb de caractères max pour l'input : 32768\n",
      "id du modèle : mistral-medium-latest - nb de caractères max pour l'input : 32768\n",
      "id du modèle : mistral-large-2402 - nb de caractères max pour l'input : 32768\n",
      "id du modèle : codestral-2405 - nb de caractères max pour l'input : 32768\n",
      "id du modèle : mistral-embed - nb de caractères max pour l'input : 32768\n",
      "id du modèle : mistral-moderation-2411 - nb de caractères max pour l'input : 32768\n",
      "id du modèle : mistral-moderation-latest - nb de caractères max pour l'input : 32768\n"
     ]
    }
   ],
   "source": [
    "# Lister les modèles contenus dans res.data par ordre de max_context_length\n",
    "liste_modeles_tri = sorted(\n",
    "    liste_modeles.data, key=lambda x: x.max_context_length, reverse=True\n",
    ")\n",
    "\n",
    "for modele in liste_modeles_tri:\n",
    "    print(\n",
    "        f\"id du modèle : {modele.id} - nb de caractères max pour l'input : {modele.max_context_length}\"\n",
    "    )"
   ]
  },
  {
   "cell_type": "markdown",
   "metadata": {},
   "source": [
    "### Choix du modèle"
   ]
  },
  {
   "cell_type": "code",
   "execution_count": 9,
   "metadata": {},
   "outputs": [
    {
     "name": "stdout",
     "output_type": "stream",
     "text": [
      "Modèle sélectionné : pixtral-large-latest. Longueur de prompt maximale : 131072\n"
     ]
    }
   ],
   "source": [
    "# Mettre un modèle basé sur la liste précédente\n",
    "model = \"pixtral-large-latest\"\n",
    "# model = \"codestral-latest\"\n",
    "\n",
    "\n",
    "# Instanciation de la classe MistralAPI\n",
    "\n",
    "\n",
    "model_mistral = MistralAPI(model=model)\n",
    "\n",
    "\n",
    "# Définition du nombre de caractère max\n",
    "\n",
    "\n",
    "model_max_length = [m.max_context_length for m in liste_modeles_tri if m.id == model][0]\n",
    "\n",
    "\n",
    "# Résumé\n",
    "\n",
    "\n",
    "print(f\"Modèle sélectionné : {model}. Longueur de prompt maximale : {model_max_length}\")"
   ]
  },
  {
   "cell_type": "code",
   "execution_count": 10,
   "metadata": {},
   "outputs": [
    {
     "name": "stdout",
     "output_type": "stream",
     "text": [
      "Restaurant 0: KUMA cantine\n",
      "Résumé: Le restaurant, tenu par un couple charmant, séduit par sa décoration typique et sa cuisine maison, notamment ses gyoza, ramen et desserts au matcha. Le service est rapide et agréable, et les prix sont raisonnables. Cependant, une expérience négative a été rapportée concernant un plat de saumon, jugé de mauvaise qualité et mal préparé, laissant une impression de mépris pour le client. En général, le restaurant est recommandé pour sa qualité et son ambiance, malgré cette déception ponctuelle.\n",
      "\n",
      "\n",
      "Restaurant 1: Mattsam Restaurant Messob\n",
      "Résumé: Le restaurant offre une expérience culinaire immersive et mémorable de la cuisine éthiopienne, idéale pour les amateurs de saveurs exotiques ou les curieux. Le cadre, décoré avec des éléments traditionnels, est chaleureux et dépaysant. Le personnel, très accueillant et souriant, guide parfaitement les clients, même ceux qui découvrent cette cuisine pour la première fois. Les plats, souvent servis sur de grandes galettes, sont goûteux et bien assaisonnés, bien que parfois un peu gras. La formule découverte permet de savourer une variété de mets typiques, créant un moment de partage agréable. Le service est impeccable, rendant la soirée encore plus plaisante. En somme, ce restaurant est vivement recommandé pour une découverte culinaire enrichissante et délicieuse.\n",
      "\n",
      "\n",
      "Restaurant 2: Brasserie des Confluences\n",
      "Résumé: La brasserie située au musée des Confluences à Lyon offre une expérience culinaire globalement positive. Le cadre, souvent décrit comme magnifique et agréable, est un atout majeur, bien que certains trouvent la décoration un peu froide. Le service est généralement apprécié pour son efficacité, sa sympathie et son professionnalisme, malgré quelques rares déceptions. La cuisine, bien que parfois critiquée pour des plats froids ou manquant de caractère, est souvent louée pour sa qualité, sa présentation soignée et ses produits frais. Les prix sont jugés raisonnables, surtout pour le menu du jour, et le parking gratuit est un avantage notable. Quelques clients regrettent la fermeture de la brasserie, soulignant qu'elle sera regrettée pour ses plats intéressants et son service agréable.\n",
      "\n",
      "\n",
      "Restaurant 3: Christian Tetedoie\n",
      "Résumé: Le restaurant offre une vue imprenable sur Lyon, ce qui est souvent le point fort mentionné par les clients. La cuisine est généralement jugée savoureuse et créative, avec des plats bien présentés et des saveurs équilibrées. Cependant, les avis sont mitigés concernant le service, qui est parfois décrit comme rapide mais peu chaleureux, voire désorganisé. Certains clients se plaignent de l'accueil froid et du manque de professionnalisme du personnel, tandis que d'autres apprécient l'attention et la bienveillance des serveurs. Les prix sont souvent jugés élevés, surtout pour la quantité servie, et certains plats ne sont pas toujours à la hauteur des attentes pour un restaurant étoilé. La décoration et l'ambiance du restaurant sont également critiquées par certains, qui les trouvent fades ou sans cachet. En résumé, bien que la vue et certains plats soient appréciés, le service et le rapport qualité-prix restent des points de discorde parmi les clients.\n",
      "\n",
      "\n",
      "Restaurant 4: Gang Nam\n",
      "Résumé: Le restaurant, spécialisé en cuisine coréenne, offre une expérience culinaire généralement appréciée pour la qualité de ses plats, notamment le barbecue coréen avec du bœuf mariné. Le cadre est agréable, avec une petite terrasse, et le service est souvent jugé attentionné et compétent. Cependant, les avis divergent sur le rapport qualité-prix, certains trouvant l'addition élevée pour la quantité et la saveur des plats. Quelques clients ont été déçus par le manque d'explications sur les plats et la froideur du personnel. En résumé, bien que la nourriture soit savoureuse et le cadre plaisant, l'expérience peut varier en fonction des attentes et des plats choisis.\n",
      "\n",
      "\n",
      "Restaurant 5: Crêperie La Marie Morgane\n",
      "Résumé: Le restaurant, situé en plein cœur de Lyon, est réputé pour ses délicieuses galettes et crêpes, tant sucrées que salées, accompagnées d'un bon bol de cidre. L'ambiance y est chaleureuse, rappelant les vacances en Bretagne. Le service est généralement rapide et le personnel, à l'exception notable de la propriétaire, est décrit comme aimable et accueillant. Cependant, la gestion des réservations semble problématique, avec des difficultés pour joindre le restaurant et une attitude parfois désagréable de la patronne. Les clients apprécient la qualité des plats et le cadre agréable, mais certains mentionnent des tables trop serrées et un niveau de bruit élevé, rendant les conversations privées difficiles. Malgré ces inconvénients, la plupart des clients sont satisfaits et prêts à revenir, notamment pour la qualité des galettes et l'accueil chaleureux.\n",
      "\n",
      "\n",
      "Restaurant 6: Fiston - Bouchon Lyonnais\n",
      "Résumé: Le restaurant en question, situé dans le vieux Lyon, offre une expérience culinaire variée selon les avis des clients. Certains ont été déçus par des plats trop salés, des services lents ou des attentes prolongées, notamment en période de forte affluence. D'autres, en revanche, ont apprécié l'accueil chaleureux, le service efficace et les plats savoureux, mettant en avant des spécialités lyonnaises bien exécutées. La qualité des produits et la convivialité du personnel sont souvent saluées, bien que certains clients aient trouvé les prix élevés par rapport à la prestation. L'ambiance traditionnelle et le cadre agréable sont également des points forts mentionnés, faisant de ce restaurant un choix populaire pour les visiteurs et les locaux.\n",
      "\n",
      "\n",
      "Restaurant 7: Les Terrasses de Lyon\n",
      "Résumé: Le restaurant, bien que situé dans un cadre magnifique avec une vue imprenable sur Lyon, offre une expérience mitigée. Le service est souvent critiqué pour son manque de professionnalisme et de coordination, avec des attentes prolongées et des erreurs fréquentes. La cuisine, bien que présentée de manière attrayante, ne parvient pas toujours à satisfaire les attentes en termes de saveurs et de qualité, ce qui déçoit particulièrement pour un établissement de ce standing. Certains clients apprécient néanmoins la beauté des lieux et la qualité de certains plats, mais l'ensemble de l'expérience laisse souvent un goût d'inachevé. La gestion des réservations et l'accueil téléphonique sont également pointés du doigt pour leur inefficacité et leur manque de courtoisie. En somme, malgré un potentiel évident, le restaurant peine à offrir une prestation à la hauteur de sa réputation et de ses tarifs.\n",
      "\n",
      "\n",
      "Restaurant 8: Empanadas Club\n",
      "Résumé: Le restaurant est unanimement apprécié pour son ambiance chaleureuse et conviviale, inspirée de l'Argentine, avec une décoration soignée et une musique latine entraînante. Les empanadas, spécialité de la maison, sont décrits comme délicieux, variés et bien garnis, offrant un véritable voyage gustatif. Le service est généralement rapide et efficace, avec un personnel souriant, accueillant et professionnel. Les cocktails et les desserts sont également bien notés. Le restaurant est idéal pour des repas entre amis ou en famille, et propose une piste de danse au sous-sol, ajoutant une dimension festive à l'expérience. Quelques clients mentionnent des points d'amélioration, comme le bruit ambiant ou des problèmes ponctuels de service, mais globalement, l'établissement est recommandé pour son excellent rapport qualité-prix et son atmosphère unique.\n",
      "\n",
      "\n",
      "Restaurant 9: Kenbo\n",
      "Résumé: Le restaurant Kenbo est un véritable délice pour les amateurs de cuisine asiatique. Les clients apprécient particulièrement la fraîcheur et la saveur des plats, allant des entrées comme les nems et les rouleaux de printemps, aux plats principaux tels que le bo bun et le pad thaï, jusqu'aux desserts généreux et délicats. La décoration florale et bariolée offre un cadre agréable, bien que certains trouvent le service un peu long le soir et les portions pas toujours généreuses. Le personnel est généralement décrit comme souriant, efficace et accueillant, contribuant à une expérience globale positive. Les produits utilisés sont de qualité, et le rapport qualité-prix est souvent jugé bon, malgré quelques avis mentionnant des prix un peu élevés. En somme, Kenbo est une adresse incontournable pour une soirée réussie, que ce soit en famille, entre amis ou pour le travail, et sa proximité avec le cinéma le Comoedia en fait un choix idéal pour une sortie complète.\n",
      "\n",
      "\n"
     ]
    }
   ],
   "source": [
    "def split_text(text, max_length):\n",
    "    \"\"\"\n",
    "    Splits the text into chunks of maximum length.\n",
    "    \"\"\"\n",
    "    words = text.split()\n",
    "    for i in range(0, len(words), max_length):\n",
    "        yield \" \".join(words[i : i + max_length])\n",
    "\n",
    "\n",
    "query = \"Analyser ces avis de clients concernant un restaurant, puis produire un unique résumé de ces avis, court mais riche d'informations. Ne pas produire de liste de points positifs ou négatifs, ni .\"\n",
    "temperature = 0.1\n",
    "\n",
    "for index, row in df_grouped.iterrows():\n",
    "    reviews = row[\"contenu_avis\"]\n",
    "    chunks = list(\n",
    "        split_text(reviews, model_max_length)\n",
    "    )  # Adjust the chunk size as needed\n",
    "    summaries = []\n",
    "    for chunk in chunks:\n",
    "        summary = model_mistral.query(f\"{query} : '{chunk}'\", temperature=temperature)\n",
    "        summaries.append(summary)\n",
    "    full_summary = \" \".join(summaries)\n",
    "    print(f\"Restaurant {index}: {row['nom_restaurant']}\")\n",
    "    print(f\"Résumé: {full_summary}\")\n",
    "    print(\"\\n\")\n",
    "\n",
    "    # Ajouter le résumé à df_grouped\n",
    "    df_grouped.loc[index, \"resume\"] = full_summary\n",
    "\n",
    "    # Marquer une pause de 10 secondes pour ne pas saturer l'API\n",
    "    time.sleep(10)"
   ]
  },
  {
   "cell_type": "markdown",
   "metadata": {},
   "source": [
    "### Mettre à jour la base de données"
   ]
  },
  {
   "cell_type": "code",
   "execution_count": 11,
   "metadata": {},
   "outputs": [
    {
     "name": "stdout",
     "output_type": "stream",
     "text": [
      "Résumé inséré pour le restaurant 1 (1 row(s) successfully updated)\n",
      "Résumé inséré pour le restaurant 2 (1 row(s) successfully updated)\n",
      "Résumé inséré pour le restaurant 3 (1 row(s) successfully updated)\n",
      "Résumé inséré pour le restaurant 4 (1 row(s) successfully updated)\n",
      "Résumé inséré pour le restaurant 5 (1 row(s) successfully updated)\n",
      "Résumé inséré pour le restaurant 6 (1 row(s) successfully updated)\n",
      "Résumé inséré pour le restaurant 7 (1 row(s) successfully updated)\n",
      "Résumé inséré pour le restaurant 8 (1 row(s) successfully updated)\n",
      "Résumé inséré pour le restaurant 9 (1 row(s) successfully updated)\n",
      "Résumé inséré pour le restaurant 10 (1 row(s) successfully updated)\n"
     ]
    }
   ],
   "source": [
    "# Updater les résumés dans la base de données\n",
    "for index, row in df_grouped.iterrows():\n",
    "    success, t_insert = bdd.update(\n",
    "        table_name=\"restaurants\",\n",
    "        data={\"summary\": row[\"resume\"]},\n",
    "        where=[f\"id_restaurant = '{row['id_restaurant']}'\"],\n",
    "    )\n",
    "\n",
    "    if not success:\n",
    "        bdd.rollback()\n",
    "        print(\n",
    "            f\"Erreur lors de l'insertion du résumé pour le restaurant {row['id_restaurant']} : {t_insert}\"\n",
    "        )\n",
    "        print(t_insert)\n",
    "    else:\n",
    "        bdd.commit()\n",
    "        print(f\"Résumé inséré pour le restaurant {row['id_restaurant']} ({t_insert})\")"
   ]
  }
 ],
 "metadata": {
  "kernelspec": {
   "display_name": "friands",
   "language": "python",
   "name": "python3"
  },
  "language_info": {
   "codemirror_mode": {
    "name": "ipython",
    "version": 3
   },
   "file_extension": ".py",
   "mimetype": "text/x-python",
   "name": "python",
   "nbconvert_exporter": "python",
   "pygments_lexer": "ipython3",
   "version": "3.11.11"
  }
 },
 "nbformat": 4,
 "nbformat_minor": 2
}
