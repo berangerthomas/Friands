{
 "cells": [
  {
   "cell_type": "code",
   "execution_count": 8,
   "metadata": {},
   "outputs": [],
   "source": [
    "from mistralai import Mistral\n",
    "import os\n",
    "import pandas as pd\n",
    "from pathlib import Path\n",
    "from sqlutils import sqlutils\n",
    "import time"
   ]
  },
  {
   "cell_type": "code",
   "execution_count": 9,
   "metadata": {},
   "outputs": [],
   "source": [
    "class MistralAPI:\n",
    "    \"\"\"\n",
    "    A client for interacting with the MistralAI API.\n",
    "\n",
    "    Attributes:\n",
    "        client (Mistral): The Mistral client instance.\n",
    "        model (str): The model to use for queries.\n",
    "    \"\"\"\n",
    "\n",
    "    def __init__(self, model: str) -> None:\n",
    "        \"\"\"\n",
    "        Initializes the MistralAPI with the given model.\n",
    "\n",
    "        Args:\n",
    "            model (str): The model to use for queries.\n",
    "\n",
    "        Raises:\n",
    "            ValueError: If the MISTRAL_API_KEY environment variable is not set.\n",
    "        \"\"\"\n",
    "        api_key = os.getenv(\"MISTRAL_API_KEY\")\n",
    "        if not api_key:\n",
    "            raise ValueError(\n",
    "                \"No MISTRAL_API_KEY as environment variable, please set it!\"\n",
    "            )\n",
    "        self.client = Mistral(api_key=api_key)\n",
    "        self.model = model\n",
    "\n",
    "    def query(self, query: str, temperature: float = 0.5) -> str:\n",
    "        \"\"\"\n",
    "        Sends a query to the MistralAI API and returns the response.\n",
    "\n",
    "        Args:\n",
    "            query (str): The input query to send to the model.\n",
    "            temperature (float, optional): The temperature parameter for controlling\n",
    "                                          the randomness of the output. Defaults to 0.5.\n",
    "\n",
    "        Returns:\n",
    "            str: The response from the API.\n",
    "        \"\"\"\n",
    "        chat_response = self.client.chat.complete(\n",
    "            model=self.model,\n",
    "            temperature=temperature,\n",
    "            messages=[\n",
    "                {\n",
    "                    \"role\": \"user\",\n",
    "                    \"content\": query,\n",
    "                },\n",
    "            ],\n",
    "        )\n",
    "        return chat_response.choices[0].message.content"
   ]
  },
  {
   "cell_type": "code",
   "execution_count": 10,
   "metadata": {},
   "outputs": [
    {
     "name": "stdout",
     "output_type": "stream",
     "text": [
      "Date minimum: 2023-07-15\n",
      "Extraction de 415 enregistrements depuis la base de données réussie\n"
     ]
    }
   ],
   "source": [
    "# Déterminer le chemin du script\n",
    "script_path = Path().resolve()\n",
    "\n",
    "# # Select des avis depuis la base de données et depuis le chemin du script\n",
    "bdd = sqlutils(script_path / \"../../data/friands.db\")\n",
    "# Déterminer la date du jour puis la date du jour moins 18 mois\n",
    "date_min = pd.Timestamp.now() - pd.DateOffset(months=18)\n",
    "# Convertir la date en YYYY-MM-DD\n",
    "date_min = date_min.strftime(\"%Y-%m-%d\")\n",
    "print(f\"Date minimum: {date_min}\")\n",
    "# Extraire tous les avis dont la date est supérieure à date_min\n",
    "query = f\"SELECT * FROM avis WHERE date_avis >= '{date_min}'\"\n",
    "success, t_avis = bdd.select(query)\n",
    "\n",
    "if not success:\n",
    "    print(\"Erreur lors de l'extraction des avis depuis la base de données\")\n",
    "    print(t_avis)\n",
    "else:\n",
    "    print(\n",
    "        f\"Extraction de {len(t_avis)} enregistrements depuis la base de données réussie\"\n",
    "    )\n",
    "\n",
    "# # Insérer les champs extraits de la base de données dans un dataframe\n",
    "df = pd.DataFrame(\n",
    "    t_avis,\n",
    "    columns=[\n",
    "        \"id_avis\",\n",
    "        \"id_restaurant\",\n",
    "        \"nom_utilisateur\",\n",
    "        \"note_restaurant\",\n",
    "        \"date_avis\",\n",
    "        \"titre_avis\",\n",
    "        \"contenu_avis\",\n",
    "        \"label\",\n",
    "    ],\n",
    ")"
   ]
  },
  {
   "cell_type": "code",
   "execution_count": 11,
   "metadata": {},
   "outputs": [],
   "source": [
    "# Sélectionner les id_restaurant et les noms des restaurants depuis la table restaurant\n",
    "success, t_resto = bdd.select(\"SELECT id_restaurant, nom FROM restaurants\")\n",
    "\n",
    "if not success:\n",
    "    print(\n",
    "        \"Erreur lors de l'extraction des informations des restaurants depuis la base de données\"\n",
    "    )\n",
    "    print(t_resto)\n",
    "else:\n",
    "    # Ajouter les infos au dataframe df\n",
    "    df_resto = pd.DataFrame(t_resto, columns=[\"id_restaurant\", \"nom_restaurant\"])\n",
    "    df = pd.merge(df, df_resto, on=\"id_restaurant\")"
   ]
  },
  {
   "cell_type": "code",
   "execution_count": 12,
   "metadata": {},
   "outputs": [],
   "source": [
    "# joindre tous les avis pour un restaurant donné\n",
    "df_grouped = (\n",
    "    df.groupby(\"id_restaurant\")\n",
    "    .agg(\n",
    "        {\n",
    "            \"nom_restaurant\": \"first\",\n",
    "            \"contenu_avis\": lambda x: \" --- \".join(x),\n",
    "        }\n",
    "    )\n",
    "    .reset_index()\n",
    ")"
   ]
  },
  {
   "cell_type": "code",
   "execution_count": 13,
   "metadata": {},
   "outputs": [],
   "source": [
    "os.environ[\"MISTRAL_API_KEY\"] = \"\""
   ]
  },
  {
   "cell_type": "code",
   "execution_count": 14,
   "metadata": {},
   "outputs": [],
   "source": [
    "# Lister tous les modèles accessibles depuis l'API Mistral\n",
    "from mistralai import Mistral\n",
    "import os\n",
    "\n",
    "with Mistral(\n",
    "    api_key=os.getenv(\"MISTRAL_API_KEY\", \"\"),\n",
    ") as mistral:\n",
    "\n",
    "    liste_modeles = mistral.models.list()\n",
    "\n",
    "    assert liste_modeles is not None"
   ]
  },
  {
   "cell_type": "code",
   "execution_count": 15,
   "metadata": {},
   "outputs": [
    {
     "name": "stdout",
     "output_type": "stream",
     "text": [
      "id du modèle : codestral-2501 - nb de caractères max pour l'input : 262144\n",
      "id du modèle : codestral-latest - nb de caractères max pour l'input : 262144\n",
      "id du modèle : codestral-2412 - nb de caractères max pour l'input : 262144\n",
      "id du modèle : codestral-2411-rc5 - nb de caractères max pour l'input : 262144\n",
      "id du modèle : codestral-mamba-2407 - nb de caractères max pour l'input : 262144\n",
      "id du modèle : open-codestral-mamba - nb de caractères max pour l'input : 262144\n",
      "id du modèle : codestral-mamba-latest - nb de caractères max pour l'input : 262144\n",
      "id du modèle : ministral-3b-2410 - nb de caractères max pour l'input : 131072\n",
      "id du modèle : ministral-3b-latest - nb de caractères max pour l'input : 131072\n",
      "id du modèle : ministral-8b-2410 - nb de caractères max pour l'input : 131072\n",
      "id du modèle : ministral-8b-latest - nb de caractères max pour l'input : 131072\n",
      "id du modèle : open-mistral-nemo - nb de caractères max pour l'input : 131072\n",
      "id du modèle : open-mistral-nemo-2407 - nb de caractères max pour l'input : 131072\n",
      "id du modèle : mistral-tiny-2407 - nb de caractères max pour l'input : 131072\n",
      "id du modèle : mistral-tiny-latest - nb de caractères max pour l'input : 131072\n",
      "id du modèle : mistral-large-2407 - nb de caractères max pour l'input : 131072\n",
      "id du modèle : mistral-large-2411 - nb de caractères max pour l'input : 131072\n",
      "id du modèle : mistral-large-latest - nb de caractères max pour l'input : 131072\n",
      "id du modèle : pixtral-large-2411 - nb de caractères max pour l'input : 131072\n",
      "id du modèle : pixtral-large-latest - nb de caractères max pour l'input : 131072\n",
      "id du modèle : pixtral-12b-2409 - nb de caractères max pour l'input : 131072\n",
      "id du modèle : pixtral-12b - nb de caractères max pour l'input : 131072\n",
      "id du modèle : pixtral-12b-latest - nb de caractères max pour l'input : 131072\n",
      "id du modèle : open-mixtral-8x22b - nb de caractères max pour l'input : 65536\n",
      "id du modèle : open-mixtral-8x22b-2404 - nb de caractères max pour l'input : 65536\n",
      "id du modèle : open-mistral-7b - nb de caractères max pour l'input : 32768\n",
      "id du modèle : mistral-tiny - nb de caractères max pour l'input : 32768\n",
      "id du modèle : mistral-tiny-2312 - nb de caractères max pour l'input : 32768\n",
      "id du modèle : open-mixtral-8x7b - nb de caractères max pour l'input : 32768\n",
      "id du modèle : mistral-small - nb de caractères max pour l'input : 32768\n",
      "id du modèle : mistral-small-2312 - nb de caractères max pour l'input : 32768\n",
      "id du modèle : mistral-small-2402 - nb de caractères max pour l'input : 32768\n",
      "id du modèle : mistral-small-2409 - nb de caractères max pour l'input : 32768\n",
      "id du modèle : mistral-small-latest - nb de caractères max pour l'input : 32768\n",
      "id du modèle : mistral-medium-2312 - nb de caractères max pour l'input : 32768\n",
      "id du modèle : mistral-medium - nb de caractères max pour l'input : 32768\n",
      "id du modèle : mistral-medium-latest - nb de caractères max pour l'input : 32768\n",
      "id du modèle : mistral-large-2402 - nb de caractères max pour l'input : 32768\n",
      "id du modèle : codestral-2405 - nb de caractères max pour l'input : 32768\n",
      "id du modèle : mistral-embed - nb de caractères max pour l'input : 32768\n",
      "id du modèle : mistral-moderation-2411 - nb de caractères max pour l'input : 32768\n",
      "id du modèle : mistral-moderation-latest - nb de caractères max pour l'input : 32768\n"
     ]
    }
   ],
   "source": [
    "# Lister les modèles contenus dans res.data par ordre de max_context_length\n",
    "liste_modeles_tri = sorted(\n",
    "    liste_modeles.data, key=lambda x: x.max_context_length, reverse=True\n",
    ")\n",
    "\n",
    "for modele in liste_modeles_tri:\n",
    "    print(\n",
    "        f\"id du modèle : {modele.id} - nb de caractères max pour l'input : {modele.max_context_length}\"\n",
    "    )"
   ]
  },
  {
   "cell_type": "markdown",
   "metadata": {},
   "source": [
    "### Choix du modèle"
   ]
  },
  {
   "cell_type": "code",
   "execution_count": 16,
   "metadata": {},
   "outputs": [
    {
     "name": "stdout",
     "output_type": "stream",
     "text": [
      "Modèle sélectionné : pixtral-large-latest. Longueur de prompt maximale : 131072\n"
     ]
    }
   ],
   "source": [
    "# Mettre un modèle basé sur la liste précédente\n",
    "model = \"pixtral-large-latest\"\n",
    "# model = \"codestral-latest\"\n",
    "\n",
    "\n",
    "# Instanciation de la classe MistralAPI\n",
    "\n",
    "\n",
    "model_mistral = MistralAPI(model=model)\n",
    "\n",
    "\n",
    "# Définition du nombre de caractère max\n",
    "\n",
    "\n",
    "model_max_length = [m.max_context_length for m in liste_modeles_tri if m.id == model][0]\n",
    "\n",
    "\n",
    "# Résumé\n",
    "\n",
    "\n",
    "print(f\"Modèle sélectionné : {model}. Longueur de prompt maximale : {model_max_length}\")"
   ]
  },
  {
   "cell_type": "code",
   "execution_count": 17,
   "metadata": {},
   "outputs": [
    {
     "name": "stdout",
     "output_type": "stream",
     "text": [
      "Restaurant: KUMA cantine\n",
      "Résumé: Le restaurant, tenu par un couple charmant, séduit par sa décoration typique et sa cuisine maison, notamment ses gyoza et ramen. Le service est rapide et agréable, et les prix sont raisonnables. Les clients apprécient particulièrement les desserts au matcha, comme les cookies et le tiramisu. Cependant, une expérience négative a été rapportée concernant un plat de saumon, jugé de mauvaise qualité et mal préparé, donnant une impression de cantine scolaire. En général, le restaurant est recommandé pour sa qualité et son ambiance conviviale.\n",
      "\n",
      "\n",
      "Restaurant: Mattsam Restaurant Messob\n",
      "Résumé: Le restaurant offre une expérience culinaire immersive et mémorable de la cuisine éthiopienne, idéale pour les amateurs de saveurs exotiques ou les curieux. Le cadre, décoré avec des éléments traditionnels, est chaleureux et dépaysant. Le personnel, accueillant et souriant, guide parfaitement les clients, même ceux découvrant cette cuisine pour la première fois. Les plats, souvent servis sur de grandes galettes, sont goûteux et bien assaisonnés, bien que parfois un peu gras. La formule découverte permet de savourer une variété de mets typiques, créant un moment de partage agréable. Le service est impeccable, rendant la soirée encore plus plaisante. En somme, ce restaurant est une véritable invitation au voyage culinaire vers l'Éthiopie, fortement recommandé par les clients.\n",
      "\n",
      "\n",
      "Restaurant: Brasserie des Confluences\n",
      "Résumé: La brasserie située au musée des Confluences à Lyon offre une expérience culinaire globalement positive. Le cadre, souvent décrit comme magnifique et agréable, est un atout majeur, bien que certains trouvent la décoration un peu froide. Le service est généralement apprécié pour son efficacité, sa sympathie et son professionnalisme, malgré quelques rares déceptions. La cuisine, bien que parfois critiquée pour des plats froids ou manquant de caractère, est souvent saluée pour sa qualité, sa présentation soignée et ses produits frais. Les menus, y compris ceux pour enfants, sont variés et bien exécutés, avec un bon rapport qualité-prix. Le parking gratuit est un avantage notable. En résumé, cette brasserie est une bonne adresse pour un repas agréable dans un cadre unique, avec quelques ajustements nécessaires pour satisfaire pleinement tous les clients.\n",
      "\n",
      "\n",
      "Restaurant: Christian Tetedoie\n",
      "Résumé: Le restaurant offre une vue imprenable sur Lyon, ce qui est souvent le point fort mentionné par les clients. La cuisine est généralement appréciée pour sa qualité et sa présentation soignée, bien que certains plats soient parfois jugés décevants ou en déséquilibre de saveurs. Le service est inégal : certains clients louent le professionnalisme et l'attention du personnel, tandis que d'autres déplorent un manque de coordination, de chaleur et de professionnalisme. Les avis divergent également sur le rapport qualité-prix, certains trouvant l'expérience justifiée par la qualité des mets et la vue, d'autres la jugeant trop coûteuse pour ce qui est offert. En résumé, le restaurant brille par sa situation et sa cuisine raffinée, mais souffre de problèmes de service et de cohérence dans l'expérience client.\n",
      "\n",
      "\n",
      "Restaurant: Gang Nam\n",
      "Résumé: Le restaurant, spécialisé en cuisine coréenne, offre une expérience culinaire généralement appréciée pour la qualité de ses plats, notamment le barbecue coréen avec du bœuf mariné, et un service souvent jugé attentionné et compétent. Situé dans un cadre agréable, parfois avec une petite terrasse, il est considéré comme une institution par certains clients fidèles. Cependant, les avis divergent sur le rapport qualité-prix, certains trouvant l'addition élevée pour les quantités servies, et quelques clients ont été déçus par le manque de saveur et d'explications sur les plats. Globalement, le restaurant est recommandé pour sa cuisine savoureuse et son ambiance conviviale, mais il est conseillé de réserver en raison de sa taille modeste.\n",
      "\n",
      "\n",
      "Restaurant: Crêperie La Marie Morgane\n",
      "Résumé: Le restaurant, situé en plein cœur de Lyon, est largement apprécié pour ses délicieuses galettes et crêpes, tant sucrées que salées, ainsi que pour son choix varié, incluant des options végétariennes. Le service est généralement rapide et le personnel, souvent décrit comme aimable et accueillant, contribue à une ambiance chaleureuse. Cependant, la gestion des réservations semble poser problème, avec des difficultés pour joindre le restaurant et une propriétaire parfois perçue comme peu sympathique. L'espace peut être exigu, avec des tables serrées et un niveau sonore élevé, ce qui peut rendre les conversations privées difficiles. Malgré ces inconvénients, la qualité des plats et le cadre agréable incitent de nombreux clients à recommander l'établissement et à envisager d'y retourner.\n",
      "\n",
      "\n",
      "Restaurant: Fiston - Bouchon Lyonnais\n",
      "Résumé: Le restaurant en question offre une expérience culinaire variée, avec des avis contrastés. Certains clients apprécient l'excellent accueil, le service attentionné et les plats savoureux, mettant en avant la qualité des produits et la convivialité de l'ambiance. Les spécialités lyonnaises, comme la quenelle de brochet et la soupe à l'oignon, sont souvent citées comme des points forts. Cependant, quelques clients ont exprimé des déceptions, notamment concernant des plats trop salés, des temps d'attente prolongés et des désagréments liés à la réservation. Globalement, le restaurant semble être une bonne adresse pour découvrir la cuisine traditionnelle lyonnaise, avec un service généralement apprécié, mais des améliorations pourraient être apportées pour garantir une satisfaction uniforme.\n",
      "\n",
      "\n",
      "Restaurant: Les Terrasses de Lyon\n",
      "Résumé: Le restaurant, bien que situé dans un cadre magnifique avec une vue imprenable sur Lyon, offre une expérience mitigée. Le service est souvent critiqué pour son manque de professionnalisme et de coordination, avec des attentes prolongées et des erreurs fréquentes. La cuisine, bien que présentée de manière attrayante, ne parvient pas toujours à satisfaire les attentes en termes de saveurs et de qualité, avec des plats parfois décevants et des prix jugés excessifs. Certains clients apprécient cependant la beauté des lieux et la qualité de certains mets, mais l'ensemble de l'expérience laisse souvent un goût d'inachevé, ne correspondant pas au standing attendu d'un établissement de ce niveau.\n",
      "\n",
      "\n",
      "Restaurant: Empanadas Club\n",
      "Résumé: Le restaurant est unanimement apprécié pour son ambiance chaleureuse et conviviale, inspirée de l'Argentine, avec une décoration soignée et une musique latine entraînante. Les empanadas, spécialité de la maison, sont décrits comme délicieux, variés et bien garnis, offrant un véritable voyage culinaire. Le service est rapide, efficace et le personnel est souvent mentionné comme étant souriant, accueillant et professionnel. Le rapport qualité-prix est jugé excellent, bien que certains clients aient noté des petits bémols comme le bruit ambiant ou des attentes prolongées pour les desserts. Le restaurant propose également une piste de danse au sous-sol, ajoutant une dimension festive à l'expérience. En résumé, c'est une adresse idéale pour passer un bon moment entre amis ou en famille, avec une cuisine savoureuse et une ambiance dépaysante.\n",
      "\n",
      "\n",
      "Restaurant: Kenbo\n",
      "Résumé: Le restaurant Kenbo est un véritable délice pour les amateurs de cuisine asiatique. Les clients apprécient particulièrement la fraîcheur et la saveur des plats, allant des entrées comme les nems et les rouleaux de printemps aux plats principaux tels que le bo bun et le pad thaï, sans oublier les desserts généreux et délicats. La décoration florale et bariolée offre un cadre agréable, bien que certains trouvent le service un peu long le soir et les portions pas toujours généreuses. Le personnel est généralement décrit comme souriant, efficace et attentionné, contribuant à une expérience globale positive. Les produits utilisés sont de qualité, et le rapport qualité-prix est souvent jugé bon, malgré quelques avis mentionnant des prix un peu élevés. En somme, Kenbo est une adresse incontournable pour une soirée réussie, que ce soit en famille, entre amis ou pour une sortie après le cinéma.\n",
      "\n",
      "\n"
     ]
    }
   ],
   "source": [
    "def split_text(text, max_length):\n",
    "    \"\"\"\n",
    "    Splits the text into chunks of maximum length.\n",
    "    \"\"\"\n",
    "    words = text.split()\n",
    "    for i in range(0, len(words), max_length):\n",
    "        yield \" \".join(words[i : i + max_length])\n",
    "\n",
    "\n",
    "query = \"Analyser ces avis de clients concernant un restaurant, puis produire un unique résumé de ces avis, court mais riche d'informations. Ne pas produire de liste de points positifs ou négatifs, ni .\"\n",
    "temperature = 0.1\n",
    "\n",
    "for index, row in df_grouped.iterrows():\n",
    "    reviews = row[\"contenu_avis\"]\n",
    "    chunks = list(\n",
    "        split_text(reviews, model_max_length)\n",
    "    )  # Adjust the chunk size as needed\n",
    "    summaries = []\n",
    "    for chunk in chunks:\n",
    "        summary = model_mistral.query(f\"{query} : '{chunk}'\", temperature=temperature)\n",
    "        summaries.append(summary)\n",
    "    full_summary = \" \".join(summaries)\n",
    "    print(f\"Restaurant {index}: {row['nom_restaurant']}\")\n",
    "    print(f\"Résumé: {full_summary}\")\n",
    "    print(\"\\n\")\n",
    "\n",
    "    # Ajouter le résumé à df_grouped\n",
    "    df_grouped.loc[index, \"resume\"] = full_summary\n",
    "\n",
    "    # Marquer une pause de 10 secondes pour ne pas saturer l'API\n",
    "    time.sleep(10)"
   ]
  },
  {
   "cell_type": "markdown",
   "metadata": {},
   "source": [
    "### Mettre à jour la base de données"
   ]
  },
  {
   "cell_type": "code",
   "execution_count": 18,
   "metadata": {},
   "outputs": [
    {
     "name": "stdout",
     "output_type": "stream",
     "text": [
      "Résumé inséré pour le restaurant 1 (1 row(s) successfully updated)\n",
      "Résumé inséré pour le restaurant 2 (1 row(s) successfully updated)\n",
      "Résumé inséré pour le restaurant 3 (1 row(s) successfully updated)\n",
      "Résumé inséré pour le restaurant 4 (1 row(s) successfully updated)\n",
      "Résumé inséré pour le restaurant 5 (1 row(s) successfully updated)\n",
      "Résumé inséré pour le restaurant 6 (1 row(s) successfully updated)\n",
      "Résumé inséré pour le restaurant 7 (1 row(s) successfully updated)\n",
      "Résumé inséré pour le restaurant 8 (1 row(s) successfully updated)\n",
      "Résumé inséré pour le restaurant 9 (1 row(s) successfully updated)\n",
      "Résumé inséré pour le restaurant 10 (1 row(s) successfully updated)\n"
     ]
    }
   ],
   "source": [
    "# Updater les résumés dans la base de données\n",
    "for index, row in df_grouped.iterrows():\n",
    "    success, t_insert = bdd.update(\n",
    "        table_name=\"restaurants\",\n",
    "        data={\"summary\": row[\"resume\"]},\n",
    "        where=[f\"id_restaurant = '{row['id_restaurant']}'\"],\n",
    "    )\n",
    "\n",
    "    if not success:\n",
    "        bdd.rollback()\n",
    "        print(\n",
    "            f\"Erreur lors de l'insertion du résumé pour le restaurant {row['id_restaurant']} : {t_insert}\"\n",
    "        )\n",
    "        print(t_insert)\n",
    "    else:\n",
    "        bdd.commit()\n",
    "        print(f\"Résumé inséré pour le restaurant {row['id_restaurant']} ({t_insert})\")"
   ]
  }
 ],
 "metadata": {
  "kernelspec": {
   "display_name": "friands",
   "language": "python",
   "name": "python3"
  },
  "language_info": {
   "codemirror_mode": {
    "name": "ipython",
    "version": 3
   },
   "file_extension": ".py",
   "mimetype": "text/x-python",
   "name": "python",
   "nbconvert_exporter": "python",
   "pygments_lexer": "ipython3",
   "version": "3.11.11"
  }
 },
 "nbformat": 4,
 "nbformat_minor": 2
}
