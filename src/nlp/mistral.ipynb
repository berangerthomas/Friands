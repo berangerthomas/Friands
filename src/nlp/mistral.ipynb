{
 "cells": [
  {
   "cell_type": "code",
   "execution_count": 2,
   "metadata": {},
   "outputs": [],
   "source": [
    "from mistralai import Mistral\n",
    "import os\n",
    "import pandas as pd\n",
    "from pathlib import Path\n",
    "from sqlutils import sqlutils"
   ]
  },
  {
   "cell_type": "code",
   "execution_count": 3,
   "metadata": {},
   "outputs": [],
   "source": [
    "class MistralAPI:\n",
    "    \"\"\"\n",
    "    A client for interacting with the MistralAI API.\n",
    "\n",
    "    Attributes:\n",
    "        client (Mistral): The Mistral client instance.\n",
    "        model (str): The model to use for queries.\n",
    "    \"\"\"\n",
    "\n",
    "    def __init__(self, model: str) -> None:\n",
    "        \"\"\"\n",
    "        Initializes the MistralAPI with the given model.\n",
    "\n",
    "        Args:\n",
    "            model (str): The model to use for queries.\n",
    "\n",
    "        Raises:\n",
    "            ValueError: If the MISTRAL_API_KEY environment variable is not set.\n",
    "        \"\"\"\n",
    "        api_key = os.getenv(\"MISTRAL_API_KEY\")\n",
    "        if not api_key:\n",
    "            raise ValueError(\n",
    "                \"No MISTRAL_API_KEY as environment variable, please set it!\"\n",
    "            )\n",
    "        self.client = Mistral(api_key=api_key)\n",
    "        self.model = model\n",
    "\n",
    "    def query(self, query: str, temperature: float = 0.5) -> str:\n",
    "        \"\"\"\n",
    "        Sends a query to the MistralAI API and returns the response.\n",
    "\n",
    "        Args:\n",
    "            query (str): The input query to send to the model.\n",
    "            temperature (float, optional): The temperature parameter for controlling\n",
    "                                          the randomness of the output. Defaults to 0.5.\n",
    "\n",
    "        Returns:\n",
    "            str: The response from the API.\n",
    "        \"\"\"\n",
    "        chat_response = self.client.chat.complete(\n",
    "            model=self.model,\n",
    "            temperature=temperature,\n",
    "            messages=[\n",
    "                {\n",
    "                    \"role\": \"user\",\n",
    "                    \"content\": query,\n",
    "                },\n",
    "            ],\n",
    "        )\n",
    "        return chat_response.choices[0].message.content"
   ]
  },
  {
   "cell_type": "code",
   "execution_count": 4,
   "metadata": {},
   "outputs": [],
   "source": [
    "# Déterminer le chemin du script\n",
    "script_path = Path().resolve()\n",
    "\n",
    "# # Select des avis depuis la base de données et depuis le chemin du script\n",
    "bdd = sqlutils(script_path / \"../../data/friands.db\")\n",
    "success, t_avis = bdd.select(\"SELECT * FROM avis\")\n",
    "\n",
    "if not success:\n",
    "    print(\"Erreur lors de l'extraction des avis depuis la base de données\")\n",
    "    print(t_avis)\n",
    "\n",
    "# # Insérer les champs extraits de la base de données dans un dataframe\n",
    "df = pd.DataFrame(\n",
    "    t_avis,\n",
    "    columns=[\n",
    "        \"id_avis\",\n",
    "        \"id_restaurant\",\n",
    "        \"nom_utilisateur\",\n",
    "        \"note_restaurant\",\n",
    "        \"date_avis\",\n",
    "        \"titre_avis\",\n",
    "        \"contenu_avis\",\n",
    "        \"label\",\n",
    "    ],\n",
    ")"
   ]
  },
  {
   "cell_type": "code",
   "execution_count": 5,
   "metadata": {},
   "outputs": [],
   "source": [
    "# Sélectionner les id_restaurant et les noms des restaurants depuis la table restaurant\n",
    "success, t_resto = bdd.select(\"SELECT id_restaurant, nom FROM restaurants\")\n",
    "\n",
    "if not success:\n",
    "    print(\n",
    "        \"Erreur lors de l'extraction des informations des restaurants depuis la base de données\"\n",
    "    )\n",
    "    print(t_resto)\n",
    "else:\n",
    "    # Ajouter les infos au dataframe df\n",
    "    df_resto = pd.DataFrame(t_resto, columns=[\"id_restaurant\", \"nom_restaurant\"])\n",
    "    df = pd.merge(df, df_resto, on=\"id_restaurant\")"
   ]
  },
  {
   "cell_type": "code",
   "execution_count": 6,
   "metadata": {},
   "outputs": [],
   "source": [
    "# joindre tous les avis pour un restaurant donné\n",
    "df_grouped = (\n",
    "    df.groupby(\"id_restaurant\")\n",
    "    .agg(\n",
    "        {\n",
    "            \"nom_restaurant\": \"first\",\n",
    "            \"contenu_avis\": lambda x: \" \".join(x),\n",
    "        }\n",
    "    )\n",
    "    .reset_index()\n",
    ")"
   ]
  },
  {
   "cell_type": "code",
   "execution_count": 7,
   "metadata": {},
   "outputs": [],
   "source": []
  },
  {
   "cell_type": "code",
   "execution_count": 10,
   "metadata": {},
   "outputs": [
    {
     "ename": "SDKError",
     "evalue": "API error occurred: Status 429\n{\"message\":\"Requests rate limit exceeded\"}",
     "output_type": "error",
     "traceback": [
      "\u001b[1;31m---------------------------------------------------------------------------\u001b[0m",
      "\u001b[1;31mSDKError\u001b[0m                                  Traceback (most recent call last)",
      "Cell \u001b[1;32mIn[10], line 18\u001b[0m\n\u001b[0;32m     16\u001b[0m summaries \u001b[38;5;241m=\u001b[39m []\n\u001b[0;32m     17\u001b[0m \u001b[38;5;28;01mfor\u001b[39;00m chunk \u001b[38;5;129;01min\u001b[39;00m chunks:\n\u001b[1;32m---> 18\u001b[0m     summary \u001b[38;5;241m=\u001b[39m \u001b[43mmodel_mistral\u001b[49m\u001b[38;5;241;43m.\u001b[39;49m\u001b[43mquery\u001b[49m\u001b[43m(\u001b[49m\u001b[38;5;124;43mf\u001b[39;49m\u001b[38;5;124;43m\"\u001b[39;49m\u001b[38;5;124;43mRésume les avis suivants : \u001b[39;49m\u001b[38;5;124;43m'\u001b[39;49m\u001b[38;5;132;43;01m{\u001b[39;49;00m\u001b[43mchunk\u001b[49m\u001b[38;5;132;43;01m}\u001b[39;49;00m\u001b[38;5;124;43m'\u001b[39;49m\u001b[38;5;124;43m\"\u001b[39;49m\u001b[43m)\u001b[49m\n\u001b[0;32m     19\u001b[0m     summaries\u001b[38;5;241m.\u001b[39mappend(summary)\n\u001b[0;32m     20\u001b[0m full_summary \u001b[38;5;241m=\u001b[39m \u001b[38;5;124m\"\u001b[39m\u001b[38;5;124m \u001b[39m\u001b[38;5;124m\"\u001b[39m\u001b[38;5;241m.\u001b[39mjoin(summaries)\n",
      "Cell \u001b[1;32mIn[3], line 40\u001b[0m, in \u001b[0;36mMistralAPI.query\u001b[1;34m(self, query, temperature)\u001b[0m\n\u001b[0;32m     28\u001b[0m \u001b[38;5;28;01mdef\u001b[39;00m\u001b[38;5;250m \u001b[39m\u001b[38;5;21mquery\u001b[39m(\u001b[38;5;28mself\u001b[39m, query: \u001b[38;5;28mstr\u001b[39m, temperature: \u001b[38;5;28mfloat\u001b[39m \u001b[38;5;241m=\u001b[39m \u001b[38;5;241m0.5\u001b[39m) \u001b[38;5;241m-\u001b[39m\u001b[38;5;241m>\u001b[39m \u001b[38;5;28mstr\u001b[39m:\n\u001b[0;32m     29\u001b[0m \u001b[38;5;250m    \u001b[39m\u001b[38;5;124;03m\"\"\"\u001b[39;00m\n\u001b[0;32m     30\u001b[0m \u001b[38;5;124;03m    Sends a query to the MistralAI API and returns the response.\u001b[39;00m\n\u001b[0;32m     31\u001b[0m \n\u001b[1;32m   (...)\u001b[0m\n\u001b[0;32m     38\u001b[0m \u001b[38;5;124;03m        str: The response from the API.\u001b[39;00m\n\u001b[0;32m     39\u001b[0m \u001b[38;5;124;03m    \"\"\"\u001b[39;00m\n\u001b[1;32m---> 40\u001b[0m     chat_response \u001b[38;5;241m=\u001b[39m \u001b[38;5;28;43mself\u001b[39;49m\u001b[38;5;241;43m.\u001b[39;49m\u001b[43mclient\u001b[49m\u001b[38;5;241;43m.\u001b[39;49m\u001b[43mchat\u001b[49m\u001b[38;5;241;43m.\u001b[39;49m\u001b[43mcomplete\u001b[49m\u001b[43m(\u001b[49m\n\u001b[0;32m     41\u001b[0m \u001b[43m        \u001b[49m\u001b[43mmodel\u001b[49m\u001b[38;5;241;43m=\u001b[39;49m\u001b[38;5;28;43mself\u001b[39;49m\u001b[38;5;241;43m.\u001b[39;49m\u001b[43mmodel\u001b[49m\u001b[43m,\u001b[49m\n\u001b[0;32m     42\u001b[0m \u001b[43m        \u001b[49m\u001b[43mtemperature\u001b[49m\u001b[38;5;241;43m=\u001b[39;49m\u001b[43mtemperature\u001b[49m\u001b[43m,\u001b[49m\n\u001b[0;32m     43\u001b[0m \u001b[43m        \u001b[49m\u001b[43mmessages\u001b[49m\u001b[38;5;241;43m=\u001b[39;49m\u001b[43m[\u001b[49m\n\u001b[0;32m     44\u001b[0m \u001b[43m            \u001b[49m\u001b[43m{\u001b[49m\n\u001b[0;32m     45\u001b[0m \u001b[43m                \u001b[49m\u001b[38;5;124;43m\"\u001b[39;49m\u001b[38;5;124;43mrole\u001b[39;49m\u001b[38;5;124;43m\"\u001b[39;49m\u001b[43m:\u001b[49m\u001b[43m \u001b[49m\u001b[38;5;124;43m\"\u001b[39;49m\u001b[38;5;124;43muser\u001b[39;49m\u001b[38;5;124;43m\"\u001b[39;49m\u001b[43m,\u001b[49m\n\u001b[0;32m     46\u001b[0m \u001b[43m                \u001b[49m\u001b[38;5;124;43m\"\u001b[39;49m\u001b[38;5;124;43mcontent\u001b[39;49m\u001b[38;5;124;43m\"\u001b[39;49m\u001b[43m:\u001b[49m\u001b[43m \u001b[49m\u001b[43mquery\u001b[49m\u001b[43m,\u001b[49m\n\u001b[0;32m     47\u001b[0m \u001b[43m            \u001b[49m\u001b[43m}\u001b[49m\u001b[43m,\u001b[49m\n\u001b[0;32m     48\u001b[0m \u001b[43m        \u001b[49m\u001b[43m]\u001b[49m\u001b[43m,\u001b[49m\n\u001b[0;32m     49\u001b[0m \u001b[43m    \u001b[49m\u001b[43m)\u001b[49m\n\u001b[0;32m     50\u001b[0m     \u001b[38;5;28;01mreturn\u001b[39;00m chat_response\u001b[38;5;241m.\u001b[39mchoices[\u001b[38;5;241m0\u001b[39m]\u001b[38;5;241m.\u001b[39mmessage\u001b[38;5;241m.\u001b[39mcontent\n",
      "File \u001b[1;32mc:\\Users\\beranger\\anaconda3\\envs\\friands\\Lib\\site-packages\\mistralai\\chat.py:148\u001b[0m, in \u001b[0;36mChat.complete\u001b[1;34m(self, model, messages, temperature, top_p, max_tokens, stream, stop, random_seed, response_format, tools, tool_choice, presence_penalty, frequency_penalty, n, safe_prompt, retries, server_url, timeout_ms, http_headers)\u001b[0m\n\u001b[0;32m    146\u001b[0m \u001b[38;5;28;01mif\u001b[39;00m utils\u001b[38;5;241m.\u001b[39mmatch_response(http_res, [\u001b[38;5;124m\"\u001b[39m\u001b[38;5;124m4XX\u001b[39m\u001b[38;5;124m\"\u001b[39m, \u001b[38;5;124m\"\u001b[39m\u001b[38;5;124m5XX\u001b[39m\u001b[38;5;124m\"\u001b[39m], \u001b[38;5;124m\"\u001b[39m\u001b[38;5;124m*\u001b[39m\u001b[38;5;124m\"\u001b[39m):\n\u001b[0;32m    147\u001b[0m     http_res_text \u001b[38;5;241m=\u001b[39m utils\u001b[38;5;241m.\u001b[39mstream_to_text(http_res)\n\u001b[1;32m--> 148\u001b[0m     \u001b[38;5;28;01mraise\u001b[39;00m models\u001b[38;5;241m.\u001b[39mSDKError(\n\u001b[0;32m    149\u001b[0m         \u001b[38;5;124m\"\u001b[39m\u001b[38;5;124mAPI error occurred\u001b[39m\u001b[38;5;124m\"\u001b[39m, http_res\u001b[38;5;241m.\u001b[39mstatus_code, http_res_text, http_res\n\u001b[0;32m    150\u001b[0m     )\n\u001b[0;32m    152\u001b[0m content_type \u001b[38;5;241m=\u001b[39m http_res\u001b[38;5;241m.\u001b[39mheaders\u001b[38;5;241m.\u001b[39mget(\u001b[38;5;124m\"\u001b[39m\u001b[38;5;124mContent-Type\u001b[39m\u001b[38;5;124m\"\u001b[39m)\n\u001b[0;32m    153\u001b[0m http_res_text \u001b[38;5;241m=\u001b[39m utils\u001b[38;5;241m.\u001b[39mstream_to_text(http_res)\n",
      "\u001b[1;31mSDKError\u001b[0m: API error occurred: Status 429\n{\"message\":\"Requests rate limit exceeded\"}"
     ]
    }
   ],
   "source": [
    "model_mistral = MistralAPI(model=\"ministral-8b-latest\")\n",
    "\n",
    "\n",
    "def split_text(text, max_length):\n",
    "    \"\"\"\n",
    "    Splits the text into chunks of maximum length.\n",
    "    \"\"\"\n",
    "    words = text.split()\n",
    "    for i in range(0, len(words), max_length):\n",
    "        yield \" \".join(words[i : i + max_length])\n",
    "\n",
    "\n",
    "for index, row in df_grouped.iterrows():\n",
    "    reviews = row[\"contenu_avis\"]\n",
    "    chunks = list(split_text(reviews, 131000))  # Adjust the chunk size as needed\n",
    "    summaries = []\n",
    "    for chunk in chunks:\n",
    "        summary = model_mistral.query(f\"Résume les avis suivants : '{chunk}'\")\n",
    "        summaries.append(summary)\n",
    "    full_summary = \" \".join(summaries)\n",
    "    print(f\"Restaurant: {row['nom_restaurant']}\")\n",
    "    print(f\"Résumé: {full_summary}\")\n",
    "    print(\"\\n\")"
   ]
  },
  {
   "cell_type": "code",
   "execution_count": 6,
   "metadata": {},
   "outputs": [
    {
     "name": "stdout",
     "output_type": "stream",
     "text": [
      "Kuma Izakaya est un restaurant japonais authentique et savoureux, offrant une cuisine traditionnelle et des plats variés. Les avis sont globalement positifs, soulignant la qualité des plats, le service chaleureux et l'accueil sympathique. Les desserts, notamment le tiramisu au thé vert, sont particulièrement appréciés. La décoration typique japonaise et l'ambiance cosy contribuent à l'expérience culinaire. Les prix sont raisonnables compte tenu de la qualité des plats. Cependant, certains avis mentionnent des problèmes de service ou de qualité des plats, mais dans l'ensemble, Kuma Izakaya est recommandé pour une expérience culinaire japonaise authentique.\n"
     ]
    }
   ],
   "source": [
    "ministral8b = MistralAPI(model=\"ministral-8b-latest\")\n",
    "print(\n",
    "    ministral8b.query(\n",
    "        f\"Résume les avis suivants en ne proposant qu'une conclusion succinte : '{review1}'\"\n",
    "    )\n",
    ")"
   ]
  },
  {
   "cell_type": "code",
   "execution_count": 7,
   "metadata": {},
   "outputs": [
    {
     "name": "stdout",
     "output_type": "stream",
     "text": [
      "### Résumé des avis\n",
      "\n",
      "#### Avis Positifs\n",
      "- **Ambiance et Décoration**: La plupart des avis soulignent l'ambiance chaleureuse et la décoration typiquement japonaise du restaurant.\n",
      "- **Cuisine**: Les plats sont généralement décrits comme excellents, savoureux et authentiques. Les ramens, gyozas, takoyakis, et autres spécialités japonaises sont particulièrement appréciés.\n",
      "- **Service**: Le service est souvent décrit comme rapide, agréable et efficace. Les serveurs sont sympathiques et accueillants.\n",
      "- **Rapport Qualité-Prix**: La majorité des avis trouvent que le rapport qualité-prix est excellent, avec des prix raisonnables pour la qualité des plats.\n",
      "- **Desserts**: Les desserts, notamment le tiramisu au thé vert, sont souvent mentionnés comme étant délicieux.\n",
      "- **Accueil**: L'accueil est généralement chaleureux et sympathique, avec un personnel attentionné et serviable.\n",
      "\n",
      "#### Avis Négatifs\n",
      "- **Problèmes de Cuisine**: Certains avis mentionnent des problèmes de qualité de la cuisine, comme des plats mal cuits, des ingrédients de mauvaise qualité, ou des plats qui ne sont pas authentiques.\n",
      "- **Service**: Quelques avis signalent des problèmes de service, comme des temps d'attente longs ou un service lent.\n",
      "- **Problèmes de Réservation**: Certains avis mentionnent des difficultés à obtenir une table, surtout en période de forte affluence.\n",
      "- **Problèmes de Décoration**: Quelques avis trouvent que la décoration n'est pas à la hauteur des attentes, bien que cela soit rare.\n",
      "\n",
      "#### Conclusion\n",
      "Globalement, les avis sont très positifs, avec une majorité de clients satisfaits de la cuisine, du service, et de l'ambiance. Les quelques avis négatifs concernent principalement des problèmes de cuisine ou de service, mais ils sont minoritaires. Le restaurant est souvent recommandé pour ceux qui cherchent une expérience culinaire japonaise authentique et de qualité.\n"
     ]
    }
   ],
   "source": [
    "ministral8b = MistralAPI(model=\"ministral-8b-latest\")\n",
    "print(ministral8b.query(f\"Résume les avis suivants : '{review1}'\", temperature=0))"
   ]
  },
  {
   "cell_type": "code",
   "execution_count": 8,
   "metadata": {},
   "outputs": [
    {
     "name": "stdout",
     "output_type": "stream",
     "text": [
      "### Résumé des avis\n",
      "\n",
      "#### Avis Positifs\n",
      "- **Ambiance et Décoration**: La plupart des avis soulignent l'ambiance chaleureuse et la décoration typiquement japonaise du restaurant.\n",
      "- **Cuisine**: Les plats sont généralement décrits comme excellents, savoureux et authentiques. Les ramens, gyozas, takoyakis, et autres spécialités japonaises sont particulièrement appréciés.\n",
      "- **Service**: Le service est souvent décrit comme rapide, agréable et efficace. Les serveurs sont sympathiques et accueillants.\n",
      "- **Rapport Qualité-Prix**: La majorité des avis trouvent que le rapport qualité-prix est excellent, avec des prix raisonnables pour la qualité des plats.\n",
      "- **Desserts**: Les desserts, notamment le tiramisu au thé vert, sont souvent mentionnés comme étant délicieux.\n",
      "- **Accueil**: L'accueil est généralement chaleureux et sympathique, avec un personnel attentionné et serviable.\n",
      "\n",
      "#### Avis Négatifs\n",
      "- **Problèmes de Cuisine**: Certains avis mentionnent des problèmes de qualité de la cuisine, comme des plats mal cuits, des ingrédients de mauvaise qualité, ou des plats qui ne sont pas authentiques.\n",
      "- **Service**: Quelques avis signalent des problèmes de service, comme des temps d'attente longs ou un service lent.\n",
      "- **Problèmes de Réservation**: Certains avis mentionnent des difficultés à obtenir une table, surtout en période de forte affluence.\n",
      "- **Problèmes de Décoration**: Quelques avis trouvent que la décoration n'est pas à la hauteur des attentes, bien que cela soit rare.\n",
      "\n",
      "#### Conclusion\n",
      "Globalement, les avis sont très positifs, avec une majorité de clients satisfaits de la cuisine, du service, et de l'ambiance. Les quelques avis négatifs concernent principalement des problèmes de cuisine ou de service, mais ils sont minoritaires. Le restaurant est souvent recommandé pour ceux qui cherchent une expérience culinaire japonaise authentique et de qualité.\n"
     ]
    }
   ],
   "source": [
    "ministral8b = MistralAPI(model=\"ministral-8b-latest\")\n",
    "print(ministral8b.query(f\"Résume les avis suivants : '{review1}'\", temperature=0))"
   ]
  },
  {
   "cell_type": "code",
   "execution_count": 10,
   "metadata": {},
   "outputs": [
    {
     "name": "stdout",
     "output_type": "stream",
     "text": [
      "Voici une liste de 5 mots clés à partir des avis suivants :\n",
      "\n",
      "1. **Authentique** : Les avis mettent en avant l'authenticité de la cuisine japonaise proposée par le restaurant.\n",
      "2. **Décor** : La décoration typique et épurée du restaurant est souvent mentionnée comme un point positif.\n",
      "3. **Service** : Le service est décrit comme rapide, agréable et efficace dans la plupart des avis.\n",
      "4. **Plats** : Les plats sont souvent qualifiés de délicieux, savoureux et bien présentés.\n",
      "5. **Rapport qualité-prix** : Le rapport qualité-prix est souvent souligné comme étant très bon, avec des prix raisonnables pour la qualité des plats.\n"
     ]
    }
   ],
   "source": [
    "ministral8b = MistralAPI(model=\"ministral-8b-latest\")\n",
    "print(\n",
    "    ministral8b.query(\n",
    "        f\"Produire une liste de 5 mots clés à partir des avis suivants : '{review1}'\",\n",
    "        temperature=0.2,\n",
    "    )\n",
    ")\n",
    "\n",
    "## Résultat non concluant"
   ]
  }
 ],
 "metadata": {
  "kernelspec": {
   "display_name": "friands",
   "language": "python",
   "name": "python3"
  },
  "language_info": {
   "codemirror_mode": {
    "name": "ipython",
    "version": 3
   },
   "file_extension": ".py",
   "mimetype": "text/x-python",
   "name": "python",
   "nbconvert_exporter": "python",
   "pygments_lexer": "ipython3",
   "version": "3.11.11"
  }
 },
 "nbformat": 4,
 "nbformat_minor": 2
}
