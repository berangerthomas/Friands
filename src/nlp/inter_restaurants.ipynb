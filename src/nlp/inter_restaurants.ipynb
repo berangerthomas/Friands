{
 "cells": [
  {
   "cell_type": "markdown",
   "metadata": {},
   "source": [
    "### Imports"
   ]
  },
  {
   "cell_type": "code",
   "execution_count": 28,
   "metadata": {},
   "outputs": [],
   "source": [
    "from pathlib import Path\n",
    "from sqlutils import sqlutils\n",
    "import pandas as pd\n",
    "import string\n",
    "import matplotlib.pyplot as plt\n",
    "import requests\n",
    "import spacy\n",
    "import nltk\n",
    "import numpy as np\n",
    "from sklearn.decomposition import PCA\n",
    "import plotly.express as px"
   ]
  },
  {
   "cell_type": "markdown",
   "metadata": {},
   "source": [
    "### Récupération des avis par restaurants"
   ]
  },
  {
   "cell_type": "code",
   "execution_count": 29,
   "metadata": {},
   "outputs": [
    {
     "name": "stdout",
     "output_type": "stream",
     "text": [
      "Extraction de 4723 enregistrements depuis la base de données réussie\n"
     ]
    }
   ],
   "source": [
    "# Déterminer le chemin du script\n",
    "script_path = Path().resolve()\n",
    "\n",
    "# Select des avis depuis la base de données et depuis le chemin du script\n",
    "bdd = sqlutils(script_path / \"../../app/data/friands.db\")\n",
    "query = f\"SELECT avis.id_restaurant, avis.contenu_avis, restaurants.nom FROM avis JOIN restaurants ON avis.id_restaurant = restaurants.id_restaurant\"\n",
    "success, t_avis = bdd.select(query)\n",
    "\n",
    "if not success:\n",
    "    print(\"Erreur lors de l'extraction des avis depuis la base de données\")\n",
    "    print(t_avis)\n",
    "else:\n",
    "    print(\n",
    "        f\"Extraction de {len(t_avis)} enregistrements depuis la base de données réussie\"\n",
    "    )\n",
    "\n",
    "# # Insérer les champs extraits de la base de données dans un dataframe\n",
    "df = pd.DataFrame(\n",
    "    t_avis,\n",
    "    columns=[\n",
    "        \"id_restaurant\",\n",
    "        \"contenu_avis\",\n",
    "        \"nom\",\n",
    "    ],\n",
    ")"
   ]
  },
  {
   "cell_type": "markdown",
   "metadata": {},
   "source": [
    "### Fonctions de traitement du texte"
   ]
  },
  {
   "cell_type": "code",
   "execution_count": 30,
   "metadata": {},
   "outputs": [],
   "source": [
    "# Table de transcription de la ponctuation et des chiffres\n",
    "translation_table = str.maketrans(\n",
    "    {char: \" \" for char in string.punctuation + string.digits}\n",
    ")\n",
    "\n",
    "\n",
    "def clean_text(text, stopwords=set()) -> str:\n",
    "    \"\"\"\n",
    "    Clean the given text by converting to lowercase, removing ponctuation and numbers, and removing specified stopwords.\n",
    "\n",
    "    Args:\n",
    "        text (str): The input text to be cleaned.\n",
    "\n",
    "    Returns:\n",
    "        str: The cleaned text.\n",
    "    \"\"\"\n",
    "    text = text.lower().translate(translation_table)\n",
    "    return \" \".join(mot for mot in text.split() if mot not in stopwords)"
   ]
  },
  {
   "cell_type": "code",
   "execution_count": 31,
   "metadata": {},
   "outputs": [],
   "source": [
    "# Récupération d'une liste de mots vides\n",
    "url = \"https://raw.githubusercontent.com/stopwords-iso/stopwords-fr/master/stopwords-fr.txt\"\n",
    "response = requests.get(url)\n",
    "if response.status_code == 200:\n",
    "    mots_vides_github = response.text.splitlines()\n",
    "else:\n",
    "    print(\"Erreur lors de la récupération des mots vides depuis l'URL\")\n",
    "\n",
    "# Nettoyage des mots vides :\n",
    "#     - suppression des caractères diacritiques\n",
    "#     - conversion en minuscules\n",
    "#     - suppression des chiffres\n",
    "mots_vides_github = [clean_text(mot) for mot in mots_vides_github]"
   ]
  },
  {
   "cell_type": "markdown",
   "metadata": {},
   "source": [
    "### Nettoyer les avis"
   ]
  },
  {
   "cell_type": "code",
   "execution_count": 32,
   "metadata": {},
   "outputs": [],
   "source": [
    "# Application de la fonction de nettoyage sur le contenu des avis\n",
    "df[\"avis_clean\"] = df[\"contenu_avis\"].apply(lambda x: clean_text(x, mots_vides_github))"
   ]
  },
  {
   "cell_type": "markdown",
   "metadata": {},
   "source": [
    "### Lemmatisation"
   ]
  },
  {
   "cell_type": "code",
   "execution_count": 33,
   "metadata": {},
   "outputs": [],
   "source": [
    "# Chargement du modèle français\n",
    "nlp = spacy.load(\"fr_core_news_sm\")\n",
    "\n",
    "\n",
    "# Fonction de lemmatisation\n",
    "def lemmatize_text(text, nlp):\n",
    "    # Lemmatisation\n",
    "    doc = nlp(text)\n",
    "    lemmatized = [token.lemma_ for token in doc]\n",
    "\n",
    "    return \" \".join(lemmatized)"
   ]
  },
  {
   "cell_type": "code",
   "execution_count": 34,
   "metadata": {},
   "outputs": [],
   "source": [
    "# Application de la fonction de lemmatisation sur le contenu des avis\n",
    "df[f\"avis_lemmatized\"] = df[\"avis_clean\"].apply(lambda avis: lemmatize_text(avis, nlp))"
   ]
  },
  {
   "cell_type": "markdown",
   "metadata": {},
   "source": [
    "### Retirer les stop words en français"
   ]
  },
  {
   "cell_type": "code",
   "execution_count": 35,
   "metadata": {},
   "outputs": [
    {
     "name": "stderr",
     "output_type": "stream",
     "text": [
      "[nltk_data] Downloading package stopwords to\n",
      "[nltk_data]     C:\\Users\\beranger\\AppData\\Roaming\\nltk_data...\n",
      "[nltk_data]   Package stopwords is already up-to-date!\n"
     ]
    }
   ],
   "source": [
    "# retirer les stop words avec nltk\n",
    "nltk.download(\"stopwords\")\n",
    "from nltk.corpus import stopwords\n",
    "\n",
    "stop_words = stopwords.words(\"french\")\n",
    "\n",
    "\n",
    "# Fonction pour retirer les stop words\n",
    "def remove_stopwords(text, stop_words):\n",
    "    return \" \".join(mot for mot in text.split() if mot not in stop_words)\n",
    "\n",
    "\n",
    "# Application de la fonction de suppression des stop words sur le contenu des avis\n",
    "df[\"avis_no_stopwords\"] = df[\"avis_lemmatized\"].apply(\n",
    "    lambda avis: remove_stopwords(avis, stop_words)\n",
    ")"
   ]
  },
  {
   "cell_type": "markdown",
   "metadata": {},
   "source": [
    "### Word2Vec"
   ]
  },
  {
   "cell_type": "code",
   "execution_count": 36,
   "metadata": {},
   "outputs": [
    {
     "data": {
      "text/plain": [
       "(1262103, 1422060)"
      ]
     },
     "execution_count": 36,
     "metadata": {},
     "output_type": "execute_result"
    }
   ],
   "source": [
    "import gensim\n",
    "from gensim.models import Word2Vec\n",
    "\n",
    "\n",
    "# Convert text data to list of words for each review\n",
    "corpus_liste = [review.split() for review in df[\"avis_no_stopwords\"]]\n",
    "model = Word2Vec(corpus_liste, vector_size=3, window=3, min_count=1, epochs=10, seed=1)\n",
    "\n",
    "# Train Word2Vec model on the corpus\n",
    "model.build_vocab(corpus_liste)\n",
    "model.train(corpus_liste, total_examples=model.corpus_count, epochs=model.epochs)"
   ]
  },
  {
   "cell_type": "code",
   "execution_count": 37,
   "metadata": {},
   "outputs": [],
   "source": [
    "# def plot_restaurant_similarities():\n",
    "#     # Get average vector for each restaurant\n",
    "#     restaurant_vectors = {}\n",
    "\n",
    "#     # Calculate average vector for each restaurant's reviews\n",
    "#     for restaurant in df[\"nom\"].unique():\n",
    "#         restaurant_reviews = df[df[\"nom\"] == restaurant][\"avis_no_stopwords\"]\n",
    "#         vectors = []\n",
    "\n",
    "#         for review in restaurant_reviews:\n",
    "#             words = review.split()\n",
    "#             word_vectors = []\n",
    "#             for word in words:\n",
    "#                 if word in model.wv:\n",
    "#                     word_vectors.append(model.wv[word])\n",
    "#             if word_vectors:\n",
    "#                 vectors.append(np.mean(word_vectors, axis=0))\n",
    "\n",
    "#         if vectors:\n",
    "#             restaurant_vectors[restaurant] = np.mean(vectors, axis=0)\n",
    "\n",
    "#     # Create scatter plot\n",
    "#     plt.figure(figsize=(12, 8))\n",
    "#     colors = plt.cm.rainbow(np.linspace(0, 1, len(restaurant_vectors)))\n",
    "\n",
    "#     for (restaurant, vector), color in zip(restaurant_vectors.items(), colors):\n",
    "#         plt.scatter(vector[0], vector[1], c=[color], label=restaurant, s=100)\n",
    "\n",
    "#     plt.title(\"Restaurant Similarity Based on Reviews\")\n",
    "#     plt.xlabel(\"Dimension 1\")\n",
    "#     plt.ylabel(\"Dimension 2\")\n",
    "#     plt.legend(bbox_to_anchor=(1.05, 1), loc=\"upper left\")\n",
    "#     plt.tight_layout()\n",
    "#     plt.show()\n",
    "\n",
    "\n",
    "# # Call the function\n",
    "# plot_restaurant_similarities()"
   ]
  },
  {
   "cell_type": "code",
   "execution_count": 38,
   "metadata": {},
   "outputs": [],
   "source": [
    "# def plot_restaurant_similarities(themes_keywords):\n",
    "#     \"\"\"\n",
    "#     Creates a scatter plot of restaurant similarities based on predefined themes\n",
    "\n",
    "#     Args:\n",
    "#         themes_keywords (dict): Dictionary where keys are theme names and values are lists of keywords\n",
    "#     \"\"\"\n",
    "#     # Train Word2Vec model with higher dimensions for better representation\n",
    "#     global model\n",
    "#     model = Word2Vec(\n",
    "#         corpus_liste, vector_size=100, window=5, min_count=1, epochs=10, seed=1\n",
    "#     )\n",
    "#     model.build_vocab(corpus_liste)\n",
    "#     model.train(corpus_liste, total_examples=model.corpus_count, epochs=model.epochs)\n",
    "\n",
    "#     # Get average vector for each restaurant\n",
    "#     restaurant_vectors = {}\n",
    "\n",
    "#     # Calculate theme vectors (average of keyword vectors)\n",
    "#     theme_vectors = {}\n",
    "#     for theme, keywords in themes_keywords.items():\n",
    "#         theme_word_vectors = []\n",
    "#         for keyword in keywords:\n",
    "#             if keyword in model.wv:\n",
    "#                 theme_word_vectors.append(model.wv[keyword])\n",
    "#         if theme_word_vectors:\n",
    "#             theme_vectors[theme] = np.mean(theme_word_vectors, axis=0)\n",
    "\n",
    "#     # Calculate average vector for each restaurant's reviews\n",
    "#     for restaurant in df[\"nom\"].unique():\n",
    "#         restaurant_reviews = df[df[\"nom\"] == restaurant][\"avis_no_stopwords\"]\n",
    "#         theme_scores = np.zeros(len(themes_keywords))\n",
    "\n",
    "#         for review in restaurant_reviews:\n",
    "#             words = review.split()\n",
    "#             for word in words:\n",
    "#                 if word in model.wv:\n",
    "#                     # Calculate similarity with each theme\n",
    "#                     for theme_idx, theme in enumerate(themes_keywords.keys()):\n",
    "#                         if theme in theme_vectors:\n",
    "#                             similarity = np.dot(model.wv[word], theme_vectors[theme])\n",
    "#                             theme_scores[theme_idx] += similarity\n",
    "\n",
    "#         if np.any(theme_scores):\n",
    "#             restaurant_vectors[restaurant] = theme_scores / len(restaurant_reviews)\n",
    "\n",
    "#     # Create scatter plot\n",
    "#     plt.figure(figsize=(12, 8))\n",
    "#     colors = plt.cm.rainbow(np.linspace(0, 1, len(restaurant_vectors)))\n",
    "\n",
    "#     for (restaurant, vector), color in zip(restaurant_vectors.items(), colors):\n",
    "#         plt.scatter(vector[0], vector[1], c=[color], label=restaurant, s=100)\n",
    "\n",
    "#     # Set labels based on themes\n",
    "#     plt.title(\"Restaurant Similarity Based on Themes\")\n",
    "#     plt.xlabel(list(themes_keywords.keys())[0])\n",
    "#     plt.ylabel(list(themes_keywords.keys())[1])\n",
    "#     plt.legend(bbox_to_anchor=(1.05, 1), loc=\"upper left\")\n",
    "#     plt.tight_layout()\n",
    "#     plt.show()\n",
    "\n",
    "\n",
    "# # Example usage:\n",
    "# themes = {\n",
    "#     \"Qualité\": [\"délicieux\", \"excellent\", \"savoureux\", \"bon\", \"qualité\"],\n",
    "#     \"Service\": [\"service\", \"accueil\", \"sympathique\", \"agréable\", \"attentif\"],\n",
    "# }\n",
    "\n",
    "# themes = {\n",
    "#     \"Prix\": [\"cher\", \"onereux\", \"couteux\"],\n",
    "#     \"Qualité\": [\"delicieux\", \"bon\", \"savoureux\", \"qualite\"],\n",
    "# }\n",
    "# plot_restaurant_similarities(themes)"
   ]
  },
  {
   "cell_type": "code",
   "execution_count": 39,
   "metadata": {},
   "outputs": [],
   "source": [
    "# themes = {\n",
    "#     \"Qualité des plats\": [\n",
    "#         \"Saveur\",\n",
    "#         \"fraîcheur\",\n",
    "#         \"présentation\",\n",
    "#         \"ingrédients\",\n",
    "#         \"goût\",\n",
    "#         \"cuisson\",\n",
    "#         \"assaisonnement\",\n",
    "#         \"texture\",\n",
    "#         \"originalité\",\n",
    "#         \"authenticité\",\n",
    "#         \"Arôme\",\n",
    "#         \"équilibre\",\n",
    "#         \"créativité\",\n",
    "#         \"finesse\",\n",
    "#         \"gourmandise\",\n",
    "#         \"raffinement\",\n",
    "#         \"harmonie\",\n",
    "#         \"délicatesse\",\n",
    "#         \"sophistication\",\n",
    "#         \"innovation\",\n",
    "#         \"Consistance\",\n",
    "#         \"parfum\",\n",
    "#         \"épices\",\n",
    "#         \"tradition\",\n",
    "#         \"modernité\",\n",
    "#         \"simplicité\",\n",
    "#         \"complexité\",\n",
    "#         \"subtilité\",\n",
    "#         \"richesse\",\n",
    "#         \"légèreté\",\n",
    "#     ],\n",
    "#     \"Prix\": [\n",
    "#         \"Abordable\",\n",
    "#         \"raisonnable\",\n",
    "#         \"économique\",\n",
    "#         \"cher\",\n",
    "#         \"coûteux\",\n",
    "#         \"onéreux\",\n",
    "#         \"bon marché\",\n",
    "#         \"accessible\",\n",
    "#         \"modéré\",\n",
    "#         \"excessif\",\n",
    "#         \"Valeur\",\n",
    "#         \"rapport qualité-prix\",\n",
    "#         \"budget\",\n",
    "#         \"tarif\",\n",
    "#         \"menu\",\n",
    "#         \"addition\",\n",
    "#         \"facture\",\n",
    "#         \"dépense\",\n",
    "#         \"économie\",\n",
    "#         \"luxe\",\n",
    "#         \"Promotion\",\n",
    "#         \"réduction\",\n",
    "#         \"offre\",\n",
    "#         \"prix fixe\",\n",
    "#         \"formule\",\n",
    "#         \"forfait\",\n",
    "#         \"gratuit\",\n",
    "#         \"surtaxe\",\n",
    "#         \"majoration\",\n",
    "#         \"compétitif\",\n",
    "#     ],\n",
    "#     \"Ambiance\": [\n",
    "#         \"Convivial\",\n",
    "#         \"chaleureux\",\n",
    "#         \"intime\",\n",
    "#         \"décontracté\",\n",
    "#         \"élégant\",\n",
    "#         \"raffiné\",\n",
    "#         \"cosy\",\n",
    "#         \"accueillant\",\n",
    "#         \"festif\",\n",
    "#         \"romantique\",\n",
    "#         \"Décor\",\n",
    "#         \"lumière\",\n",
    "#         \"musique\",\n",
    "#         \"confort\",\n",
    "#         \"design\",\n",
    "#         \"atmosphère\",\n",
    "#         \"ambiance\",\n",
    "#         \"cadre\",\n",
    "#         \"style\",\n",
    "#         \"thème\",\n",
    "#         \"Calme\",\n",
    "#         \"animé\",\n",
    "#         \"bruyant\",\n",
    "#         \"serein\",\n",
    "#         \"branché\",\n",
    "#         \"traditionnel\",\n",
    "#         \"moderne\",\n",
    "#         \"vintage\",\n",
    "#         \"rustique\",\n",
    "#         \"sophistiqué\",\n",
    "#     ],\n",
    "# }"
   ]
  },
  {
   "cell_type": "code",
   "execution_count": 40,
   "metadata": {},
   "outputs": [
    {
     "data": {
      "application/vnd.plotly.v1+json": {
       "config": {
        "plotlyServerURL": "https://plot.ly"
       },
       "data": [
        {
         "hovertemplate": "Restaurant=%{text}<br>Dim1=%{x}<br>Dim2=%{y}<br>Dim3=%{z}<extra></extra>",
         "legendgroup": "KUMA cantine",
         "marker": {
          "color": "#636efa",
          "symbol": "circle"
         },
         "mode": "markers+text",
         "name": "KUMA cantine",
         "scene": "scene",
         "showlegend": true,
         "text": [
          "KUMA cantine"
         ],
         "textposition": "top center",
         "type": "scatter3d",
         "x": [
          0.1256087676720823
         ],
         "y": [
          -0.013666808589148885
         ],
         "z": [
          0.28961876514752155
         ]
        },
        {
         "hovertemplate": "Restaurant=%{text}<br>Dim1=%{x}<br>Dim2=%{y}<br>Dim3=%{z}<extra></extra>",
         "legendgroup": "Mattsam Restaurant Messob",
         "marker": {
          "color": "#EF553B",
          "symbol": "circle"
         },
         "mode": "markers+text",
         "name": "Mattsam Restaurant Messob",
         "scene": "scene",
         "showlegend": true,
         "text": [
          "Mattsam Restaurant Messob"
         ],
         "textposition": "top center",
         "type": "scatter3d",
         "x": [
          -0.14807975932752748
         ],
         "y": [
          0.024059162754922623
         ],
         "z": [
          0.038284172420814784
         ]
        },
        {
         "hovertemplate": "Restaurant=%{text}<br>Dim1=%{x}<br>Dim2=%{y}<br>Dim3=%{z}<extra></extra>",
         "legendgroup": "Brasserie des Confluences",
         "marker": {
          "color": "#00cc96",
          "symbol": "circle"
         },
         "mode": "markers+text",
         "name": "Brasserie des Confluences",
         "scene": "scene",
         "showlegend": true,
         "text": [
          "Brasserie des Confluences"
         ],
         "textposition": "top center",
         "type": "scatter3d",
         "x": [
          -0.13043666207002294
         ],
         "y": [
          -0.041129867276399557
         ],
         "z": [
          0.04520596792168245
         ]
        },
        {
         "hovertemplate": "Restaurant=%{text}<br>Dim1=%{x}<br>Dim2=%{y}<br>Dim3=%{z}<extra></extra>",
         "legendgroup": "Christian Tetedoie",
         "marker": {
          "color": "#ab63fa",
          "symbol": "circle"
         },
         "mode": "markers+text",
         "name": "Christian Tetedoie",
         "scene": "scene",
         "showlegend": true,
         "text": [
          "Christian Tetedoie"
         ],
         "textposition": "top center",
         "type": "scatter3d",
         "x": [
          -0.1934437632208334
         ],
         "y": [
          0.2805314154423484
         ],
         "z": [
          0.006458859213423919
         ]
        },
        {
         "hovertemplate": "Restaurant=%{text}<br>Dim1=%{x}<br>Dim2=%{y}<br>Dim3=%{z}<extra></extra>",
         "legendgroup": "Gang Nam",
         "marker": {
          "color": "#FFA15A",
          "symbol": "circle"
         },
         "mode": "markers+text",
         "name": "Gang Nam",
         "scene": "scene",
         "showlegend": true,
         "text": [
          "Gang Nam"
         ],
         "textposition": "top center",
         "type": "scatter3d",
         "x": [
          0.11474255809036087
         ],
         "y": [
          -0.04156110578694539
         ],
         "z": [
          0.00972179874059037
         ]
        },
        {
         "hovertemplate": "Restaurant=%{text}<br>Dim1=%{x}<br>Dim2=%{y}<br>Dim3=%{z}<extra></extra>",
         "legendgroup": "Crêperie La Marie Morgane",
         "marker": {
          "color": "#19d3f3",
          "symbol": "circle"
         },
         "mode": "markers+text",
         "name": "Crêperie La Marie Morgane",
         "scene": "scene",
         "showlegend": true,
         "text": [
          "Crêperie La Marie Morgane"
         ],
         "textposition": "top center",
         "type": "scatter3d",
         "x": [
          0.1766909470015296
         ],
         "y": [
          -0.19059204260243345
         ],
         "z": [
          -0.05350303783511726
         ]
        },
        {
         "hovertemplate": "Restaurant=%{text}<br>Dim1=%{x}<br>Dim2=%{y}<br>Dim3=%{z}<extra></extra>",
         "legendgroup": "Fiston - Bouchon Lyonnais",
         "marker": {
          "color": "#FF6692",
          "symbol": "circle"
         },
         "mode": "markers+text",
         "name": "Fiston - Bouchon Lyonnais",
         "scene": "scene",
         "showlegend": true,
         "text": [
          "Fiston - Bouchon Lyonnais"
         ],
         "textposition": "top center",
         "type": "scatter3d",
         "x": [
          0.09816827589645927
         ],
         "y": [
          0.03291396901838869
         ],
         "z": [
          0.04283383732184405
         ]
        },
        {
         "hovertemplate": "Restaurant=%{text}<br>Dim1=%{x}<br>Dim2=%{y}<br>Dim3=%{z}<extra></extra>",
         "legendgroup": "Les Terrasses de Lyon",
         "marker": {
          "color": "#B6E880",
          "symbol": "circle"
         },
         "mode": "markers+text",
         "name": "Les Terrasses de Lyon",
         "scene": "scene",
         "showlegend": true,
         "text": [
          "Les Terrasses de Lyon"
         ],
         "textposition": "top center",
         "type": "scatter3d",
         "x": [
          -0.05830523464912993
         ],
         "y": [
          0.2477503859591298
         ],
         "z": [
          -0.029254215935596274
         ]
        },
        {
         "hovertemplate": "Restaurant=%{text}<br>Dim1=%{x}<br>Dim2=%{y}<br>Dim3=%{z}<extra></extra>",
         "legendgroup": "Empanadas Club",
         "marker": {
          "color": "#FF97FF",
          "symbol": "circle"
         },
         "mode": "markers+text",
         "name": "Empanadas Club",
         "scene": "scene",
         "showlegend": true,
         "text": [
          "Empanadas Club"
         ],
         "textposition": "top center",
         "type": "scatter3d",
         "x": [
          0.5532497878874906
         ],
         "y": [
          -0.01799435823981195
         ],
         "z": [
          -0.06973571555427861
         ]
        },
        {
         "hovertemplate": "Restaurant=%{text}<br>Dim1=%{x}<br>Dim2=%{y}<br>Dim3=%{z}<extra></extra>",
         "legendgroup": "Kenbo",
         "marker": {
          "color": "#FECB52",
          "symbol": "circle"
         },
         "mode": "markers+text",
         "name": "Kenbo",
         "scene": "scene",
         "showlegend": true,
         "text": [
          "Kenbo"
         ],
         "textposition": "top center",
         "type": "scatter3d",
         "x": [
          -0.16658211198812164
         ],
         "y": [
          -0.18096004537463228
         ],
         "z": [
          0.013559794991100297
         ]
        },
        {
         "hovertemplate": "Restaurant=%{text}<br>Dim1=%{x}<br>Dim2=%{y}<br>Dim3=%{z}<extra></extra>",
         "legendgroup": "Chez Marie",
         "marker": {
          "color": "#636efa",
          "symbol": "circle"
         },
         "mode": "markers+text",
         "name": "Chez Marie",
         "scene": "scene",
         "showlegend": true,
         "text": [
          "Chez Marie"
         ],
         "textposition": "top center",
         "type": "scatter3d",
         "x": [
          -0.46797003040319135
         ],
         "y": [
          -0.16519516771775497
         ],
         "z": [
          -0.08497708064712695
         ]
        },
        {
         "hovertemplate": "Restaurant=%{text}<br>Dim1=%{x}<br>Dim2=%{y}<br>Dim3=%{z}<extra></extra>",
         "legendgroup": "L'Authentik Restaurant",
         "marker": {
          "color": "#EF553B",
          "symbol": "circle"
         },
         "mode": "markers+text",
         "name": "L'Authentik Restaurant",
         "scene": "scene",
         "showlegend": true,
         "text": [
          "L'Authentik Restaurant"
         ],
         "textposition": "top center",
         "type": "scatter3d",
         "x": [
          0.09635722511090312
         ],
         "y": [
          0.06584446241233669
         ],
         "z": [
          -0.2082131457848596
         ]
        }
       ],
       "layout": {
        "height": 800,
        "legend": {
         "title": {
          "text": "Restaurant"
         },
         "tracegroupgap": 0
        },
        "margin": {
         "b": 0,
         "l": 0,
         "r": 0,
         "t": 30
        },
        "scene": {
         "aspectmode": "cube",
         "aspectratio": {
          "x": 1,
          "y": 1,
          "z": 1
         },
         "domain": {
          "x": [
           0,
           1
          ],
          "y": [
           0,
           1
          ]
         },
         "xaxis": {
          "title": {
           "text": "Dim1"
          }
         },
         "yaxis": {
          "title": {
           "text": "Dim2"
          }
         },
         "zaxis": {
          "title": {
           "text": "Dim3"
          }
         }
        },
        "template": {
         "data": {
          "bar": [
           {
            "error_x": {
             "color": "#2a3f5f"
            },
            "error_y": {
             "color": "#2a3f5f"
            },
            "marker": {
             "line": {
              "color": "#E5ECF6",
              "width": 0.5
             },
             "pattern": {
              "fillmode": "overlay",
              "size": 10,
              "solidity": 0.2
             }
            },
            "type": "bar"
           }
          ],
          "barpolar": [
           {
            "marker": {
             "line": {
              "color": "#E5ECF6",
              "width": 0.5
             },
             "pattern": {
              "fillmode": "overlay",
              "size": 10,
              "solidity": 0.2
             }
            },
            "type": "barpolar"
           }
          ],
          "carpet": [
           {
            "aaxis": {
             "endlinecolor": "#2a3f5f",
             "gridcolor": "white",
             "linecolor": "white",
             "minorgridcolor": "white",
             "startlinecolor": "#2a3f5f"
            },
            "baxis": {
             "endlinecolor": "#2a3f5f",
             "gridcolor": "white",
             "linecolor": "white",
             "minorgridcolor": "white",
             "startlinecolor": "#2a3f5f"
            },
            "type": "carpet"
           }
          ],
          "choropleth": [
           {
            "colorbar": {
             "outlinewidth": 0,
             "ticks": ""
            },
            "type": "choropleth"
           }
          ],
          "contour": [
           {
            "colorbar": {
             "outlinewidth": 0,
             "ticks": ""
            },
            "colorscale": [
             [
              0,
              "#0d0887"
             ],
             [
              0.1111111111111111,
              "#46039f"
             ],
             [
              0.2222222222222222,
              "#7201a8"
             ],
             [
              0.3333333333333333,
              "#9c179e"
             ],
             [
              0.4444444444444444,
              "#bd3786"
             ],
             [
              0.5555555555555556,
              "#d8576b"
             ],
             [
              0.6666666666666666,
              "#ed7953"
             ],
             [
              0.7777777777777778,
              "#fb9f3a"
             ],
             [
              0.8888888888888888,
              "#fdca26"
             ],
             [
              1,
              "#f0f921"
             ]
            ],
            "type": "contour"
           }
          ],
          "contourcarpet": [
           {
            "colorbar": {
             "outlinewidth": 0,
             "ticks": ""
            },
            "type": "contourcarpet"
           }
          ],
          "heatmap": [
           {
            "colorbar": {
             "outlinewidth": 0,
             "ticks": ""
            },
            "colorscale": [
             [
              0,
              "#0d0887"
             ],
             [
              0.1111111111111111,
              "#46039f"
             ],
             [
              0.2222222222222222,
              "#7201a8"
             ],
             [
              0.3333333333333333,
              "#9c179e"
             ],
             [
              0.4444444444444444,
              "#bd3786"
             ],
             [
              0.5555555555555556,
              "#d8576b"
             ],
             [
              0.6666666666666666,
              "#ed7953"
             ],
             [
              0.7777777777777778,
              "#fb9f3a"
             ],
             [
              0.8888888888888888,
              "#fdca26"
             ],
             [
              1,
              "#f0f921"
             ]
            ],
            "type": "heatmap"
           }
          ],
          "heatmapgl": [
           {
            "colorbar": {
             "outlinewidth": 0,
             "ticks": ""
            },
            "colorscale": [
             [
              0,
              "#0d0887"
             ],
             [
              0.1111111111111111,
              "#46039f"
             ],
             [
              0.2222222222222222,
              "#7201a8"
             ],
             [
              0.3333333333333333,
              "#9c179e"
             ],
             [
              0.4444444444444444,
              "#bd3786"
             ],
             [
              0.5555555555555556,
              "#d8576b"
             ],
             [
              0.6666666666666666,
              "#ed7953"
             ],
             [
              0.7777777777777778,
              "#fb9f3a"
             ],
             [
              0.8888888888888888,
              "#fdca26"
             ],
             [
              1,
              "#f0f921"
             ]
            ],
            "type": "heatmapgl"
           }
          ],
          "histogram": [
           {
            "marker": {
             "pattern": {
              "fillmode": "overlay",
              "size": 10,
              "solidity": 0.2
             }
            },
            "type": "histogram"
           }
          ],
          "histogram2d": [
           {
            "colorbar": {
             "outlinewidth": 0,
             "ticks": ""
            },
            "colorscale": [
             [
              0,
              "#0d0887"
             ],
             [
              0.1111111111111111,
              "#46039f"
             ],
             [
              0.2222222222222222,
              "#7201a8"
             ],
             [
              0.3333333333333333,
              "#9c179e"
             ],
             [
              0.4444444444444444,
              "#bd3786"
             ],
             [
              0.5555555555555556,
              "#d8576b"
             ],
             [
              0.6666666666666666,
              "#ed7953"
             ],
             [
              0.7777777777777778,
              "#fb9f3a"
             ],
             [
              0.8888888888888888,
              "#fdca26"
             ],
             [
              1,
              "#f0f921"
             ]
            ],
            "type": "histogram2d"
           }
          ],
          "histogram2dcontour": [
           {
            "colorbar": {
             "outlinewidth": 0,
             "ticks": ""
            },
            "colorscale": [
             [
              0,
              "#0d0887"
             ],
             [
              0.1111111111111111,
              "#46039f"
             ],
             [
              0.2222222222222222,
              "#7201a8"
             ],
             [
              0.3333333333333333,
              "#9c179e"
             ],
             [
              0.4444444444444444,
              "#bd3786"
             ],
             [
              0.5555555555555556,
              "#d8576b"
             ],
             [
              0.6666666666666666,
              "#ed7953"
             ],
             [
              0.7777777777777778,
              "#fb9f3a"
             ],
             [
              0.8888888888888888,
              "#fdca26"
             ],
             [
              1,
              "#f0f921"
             ]
            ],
            "type": "histogram2dcontour"
           }
          ],
          "mesh3d": [
           {
            "colorbar": {
             "outlinewidth": 0,
             "ticks": ""
            },
            "type": "mesh3d"
           }
          ],
          "parcoords": [
           {
            "line": {
             "colorbar": {
              "outlinewidth": 0,
              "ticks": ""
             }
            },
            "type": "parcoords"
           }
          ],
          "pie": [
           {
            "automargin": true,
            "type": "pie"
           }
          ],
          "scatter": [
           {
            "fillpattern": {
             "fillmode": "overlay",
             "size": 10,
             "solidity": 0.2
            },
            "type": "scatter"
           }
          ],
          "scatter3d": [
           {
            "line": {
             "colorbar": {
              "outlinewidth": 0,
              "ticks": ""
             }
            },
            "marker": {
             "colorbar": {
              "outlinewidth": 0,
              "ticks": ""
             }
            },
            "type": "scatter3d"
           }
          ],
          "scattercarpet": [
           {
            "marker": {
             "colorbar": {
              "outlinewidth": 0,
              "ticks": ""
             }
            },
            "type": "scattercarpet"
           }
          ],
          "scattergeo": [
           {
            "marker": {
             "colorbar": {
              "outlinewidth": 0,
              "ticks": ""
             }
            },
            "type": "scattergeo"
           }
          ],
          "scattergl": [
           {
            "marker": {
             "colorbar": {
              "outlinewidth": 0,
              "ticks": ""
             }
            },
            "type": "scattergl"
           }
          ],
          "scattermapbox": [
           {
            "marker": {
             "colorbar": {
              "outlinewidth": 0,
              "ticks": ""
             }
            },
            "type": "scattermapbox"
           }
          ],
          "scatterpolar": [
           {
            "marker": {
             "colorbar": {
              "outlinewidth": 0,
              "ticks": ""
             }
            },
            "type": "scatterpolar"
           }
          ],
          "scatterpolargl": [
           {
            "marker": {
             "colorbar": {
              "outlinewidth": 0,
              "ticks": ""
             }
            },
            "type": "scatterpolargl"
           }
          ],
          "scatterternary": [
           {
            "marker": {
             "colorbar": {
              "outlinewidth": 0,
              "ticks": ""
             }
            },
            "type": "scatterternary"
           }
          ],
          "surface": [
           {
            "colorbar": {
             "outlinewidth": 0,
             "ticks": ""
            },
            "colorscale": [
             [
              0,
              "#0d0887"
             ],
             [
              0.1111111111111111,
              "#46039f"
             ],
             [
              0.2222222222222222,
              "#7201a8"
             ],
             [
              0.3333333333333333,
              "#9c179e"
             ],
             [
              0.4444444444444444,
              "#bd3786"
             ],
             [
              0.5555555555555556,
              "#d8576b"
             ],
             [
              0.6666666666666666,
              "#ed7953"
             ],
             [
              0.7777777777777778,
              "#fb9f3a"
             ],
             [
              0.8888888888888888,
              "#fdca26"
             ],
             [
              1,
              "#f0f921"
             ]
            ],
            "type": "surface"
           }
          ],
          "table": [
           {
            "cells": {
             "fill": {
              "color": "#EBF0F8"
             },
             "line": {
              "color": "white"
             }
            },
            "header": {
             "fill": {
              "color": "#C8D4E3"
             },
             "line": {
              "color": "white"
             }
            },
            "type": "table"
           }
          ]
         },
         "layout": {
          "annotationdefaults": {
           "arrowcolor": "#2a3f5f",
           "arrowhead": 0,
           "arrowwidth": 1
          },
          "autotypenumbers": "strict",
          "coloraxis": {
           "colorbar": {
            "outlinewidth": 0,
            "ticks": ""
           }
          },
          "colorscale": {
           "diverging": [
            [
             0,
             "#8e0152"
            ],
            [
             0.1,
             "#c51b7d"
            ],
            [
             0.2,
             "#de77ae"
            ],
            [
             0.3,
             "#f1b6da"
            ],
            [
             0.4,
             "#fde0ef"
            ],
            [
             0.5,
             "#f7f7f7"
            ],
            [
             0.6,
             "#e6f5d0"
            ],
            [
             0.7,
             "#b8e186"
            ],
            [
             0.8,
             "#7fbc41"
            ],
            [
             0.9,
             "#4d9221"
            ],
            [
             1,
             "#276419"
            ]
           ],
           "sequential": [
            [
             0,
             "#0d0887"
            ],
            [
             0.1111111111111111,
             "#46039f"
            ],
            [
             0.2222222222222222,
             "#7201a8"
            ],
            [
             0.3333333333333333,
             "#9c179e"
            ],
            [
             0.4444444444444444,
             "#bd3786"
            ],
            [
             0.5555555555555556,
             "#d8576b"
            ],
            [
             0.6666666666666666,
             "#ed7953"
            ],
            [
             0.7777777777777778,
             "#fb9f3a"
            ],
            [
             0.8888888888888888,
             "#fdca26"
            ],
            [
             1,
             "#f0f921"
            ]
           ],
           "sequentialminus": [
            [
             0,
             "#0d0887"
            ],
            [
             0.1111111111111111,
             "#46039f"
            ],
            [
             0.2222222222222222,
             "#7201a8"
            ],
            [
             0.3333333333333333,
             "#9c179e"
            ],
            [
             0.4444444444444444,
             "#bd3786"
            ],
            [
             0.5555555555555556,
             "#d8576b"
            ],
            [
             0.6666666666666666,
             "#ed7953"
            ],
            [
             0.7777777777777778,
             "#fb9f3a"
            ],
            [
             0.8888888888888888,
             "#fdca26"
            ],
            [
             1,
             "#f0f921"
            ]
           ]
          },
          "colorway": [
           "#636efa",
           "#EF553B",
           "#00cc96",
           "#ab63fa",
           "#FFA15A",
           "#19d3f3",
           "#FF6692",
           "#B6E880",
           "#FF97FF",
           "#FECB52"
          ],
          "font": {
           "color": "#2a3f5f"
          },
          "geo": {
           "bgcolor": "white",
           "lakecolor": "white",
           "landcolor": "#E5ECF6",
           "showlakes": true,
           "showland": true,
           "subunitcolor": "white"
          },
          "hoverlabel": {
           "align": "left"
          },
          "hovermode": "closest",
          "mapbox": {
           "style": "light"
          },
          "paper_bgcolor": "white",
          "plot_bgcolor": "#E5ECF6",
          "polar": {
           "angularaxis": {
            "gridcolor": "white",
            "linecolor": "white",
            "ticks": ""
           },
           "bgcolor": "#E5ECF6",
           "radialaxis": {
            "gridcolor": "white",
            "linecolor": "white",
            "ticks": ""
           }
          },
          "scene": {
           "xaxis": {
            "backgroundcolor": "#E5ECF6",
            "gridcolor": "white",
            "gridwidth": 2,
            "linecolor": "white",
            "showbackground": true,
            "ticks": "",
            "zerolinecolor": "white"
           },
           "yaxis": {
            "backgroundcolor": "#E5ECF6",
            "gridcolor": "white",
            "gridwidth": 2,
            "linecolor": "white",
            "showbackground": true,
            "ticks": "",
            "zerolinecolor": "white"
           },
           "zaxis": {
            "backgroundcolor": "#E5ECF6",
            "gridcolor": "white",
            "gridwidth": 2,
            "linecolor": "white",
            "showbackground": true,
            "ticks": "",
            "zerolinecolor": "white"
           }
          },
          "shapedefaults": {
           "line": {
            "color": "#2a3f5f"
           }
          },
          "ternary": {
           "aaxis": {
            "gridcolor": "white",
            "linecolor": "white",
            "ticks": ""
           },
           "baxis": {
            "gridcolor": "white",
            "linecolor": "white",
            "ticks": ""
           },
           "bgcolor": "#E5ECF6",
           "caxis": {
            "gridcolor": "white",
            "linecolor": "white",
            "ticks": ""
           }
          },
          "title": {
           "x": 0.05
          },
          "xaxis": {
           "automargin": true,
           "gridcolor": "white",
           "linecolor": "white",
           "ticks": "",
           "title": {
            "standoff": 15
           },
           "zerolinecolor": "white",
           "zerolinewidth": 2
          },
          "yaxis": {
           "automargin": true,
           "gridcolor": "white",
           "linecolor": "white",
           "ticks": "",
           "title": {
            "standoff": 15
           },
           "zerolinecolor": "white",
           "zerolinewidth": 2
          }
         }
        },
        "title": {
         "text": "Restaurant Similarity (3D)"
        },
        "width": 1000
       }
      }
     },
     "metadata": {},
     "output_type": "display_data"
    },
    {
     "name": "stdout",
     "output_type": "stream",
     "text": [
      "Temps d'exécution : 532.27 secondes\n"
     ]
    }
   ],
   "source": [
    "def plot_restaurant_similarities():\n",
    "    # Get average vector for each restaurant\n",
    "    restaurant_vectors = {}\n",
    "    for restaurant in df[\"nom\"].unique():\n",
    "        words_lists = df[df[\"nom\"] == restaurant][\"avis_no_stopwords\"]\n",
    "        vectors = []\n",
    "        for review in words_lists:\n",
    "            word_vectors = [\n",
    "                model.wv[word] for word in review.split() if word in model.wv\n",
    "            ]\n",
    "            if word_vectors:\n",
    "                vectors.append(np.mean(word_vectors, axis=0))\n",
    "        if vectors:\n",
    "            restaurant_vectors[restaurant] = np.mean(vectors, axis=0)\n",
    "\n",
    "    # Reduce vectors to 3D\n",
    "    names = list(restaurant_vectors.keys())\n",
    "    vecs = list(restaurant_vectors.values())\n",
    "    pca = PCA(n_components=3)\n",
    "    reduced = pca.fit_transform(vecs)\n",
    "\n",
    "    df_plot = pd.DataFrame(\n",
    "        {\n",
    "            \"Restaurant\": names,\n",
    "            \"Dim1\": reduced[:, 0],\n",
    "            \"Dim2\": reduced[:, 1],\n",
    "            \"Dim3\": reduced[:, 2],\n",
    "        }\n",
    "    )\n",
    "\n",
    "    # Assign colors to each restaurant\n",
    "    unique_restaurants = df_plot[\"Restaurant\"].unique()\n",
    "    colors = plt.cm.rainbow(np.linspace(0, 1, len(unique_restaurants)))\n",
    "    color_map = {\n",
    "        restaurant: color for restaurant, color in zip(unique_restaurants, colors)\n",
    "    }\n",
    "    df_plot[\"Color\"] = df_plot[\"Restaurant\"].map(color_map)\n",
    "\n",
    "    fig = px.scatter_3d(\n",
    "        df_plot,\n",
    "        x=\"Dim1\",\n",
    "        y=\"Dim2\",\n",
    "        z=\"Dim3\",\n",
    "        text=\"Restaurant\",\n",
    "        color=\"Restaurant\",\n",
    "        title=\"Restaurant Similarity (3D)\",\n",
    "    )\n",
    "\n",
    "    # Update layout for larger size\n",
    "    fig.update_layout(\n",
    "        width=1000,  # Width in pixels\n",
    "        height=800,  # Height in pixels\n",
    "        scene=dict(aspectmode=\"cube\", aspectratio=dict(x=1, y=1, z=1)),\n",
    "        margin=dict(l=0, r=0, b=0, t=30),  # Reduce margins\n",
    "    )\n",
    "\n",
    "    fig.update_traces(textposition=\"top center\")\n",
    "    fig.show()\n",
    "\n",
    "\n",
    "plot_restaurant_similarities()\n",
    "\n",
    "end_time = time()\n",
    "print(f\"Temps d'exécution : {end_time - start_time:.2f} secondes\")"
   ]
  },
  {
   "cell_type": "code",
   "execution_count": 41,
   "metadata": {},
   "outputs": [],
   "source": [
    "# def plot_restaurant_similarities():\n",
    "#     # Get average vector for each restaurant\n",
    "#     restaurant_vectors = {}\n",
    "#     for restaurant in df[\"nom\"].unique():\n",
    "#         words_lists = df[df[\"nom\"] == restaurant][\"avis_no_stopwords\"]\n",
    "#         vectors = []\n",
    "#         for review in words_lists:\n",
    "#             word_vectors = [\n",
    "#                 model.wv[word] for word in review.split() if word in model.wv\n",
    "#             ]\n",
    "#             if word_vectors:\n",
    "#                 vectors.append(np.mean(word_vectors, axis=0))\n",
    "#         if vectors:\n",
    "#             restaurant_vectors[restaurant] = np.mean(vectors, axis=0)\n",
    "\n",
    "#     # Reduce vectors to 3D\n",
    "#     names = list(restaurant_vectors.keys())\n",
    "#     vecs = list(restaurant_vectors.values())\n",
    "#     pca = PCA(n_components=3)\n",
    "#     reduced = pca.fit_transform(vecs)\n",
    "\n",
    "#     df_plot = pd.DataFrame(\n",
    "#         {\n",
    "#             \"Restaurant\": names,\n",
    "#             \"Dim1\": reduced[:, 0],\n",
    "#             \"Dim2\": reduced[:, 1],\n",
    "#             \"Dim3\": reduced[:, 2],\n",
    "#         }\n",
    "#     )\n",
    "\n",
    "#     # Extract top 3 keywords for each dimension\n",
    "#     components = pca.components_\n",
    "#     keywords = []\n",
    "#     for i in range(3):\n",
    "#         component = components[i]\n",
    "#         indices = np.argsort(component)[-3:]\n",
    "#         keywords.append([model.wv.index_to_key[idx] for idx in indices])\n",
    "\n",
    "#     # Assign colors to each restaurant\n",
    "#     unique_restaurants = df_plot[\"Restaurant\"].unique()\n",
    "#     colors = plt.cm.rainbow(np.linspace(0, 1, len(unique_restaurants)))\n",
    "#     color_map = {\n",
    "#         restaurant: color for restaurant, color in zip(unique_restaurants, colors)\n",
    "#     }\n",
    "#     df_plot[\"Color\"] = df_plot[\"Restaurant\"].map(color_map)\n",
    "\n",
    "#     fig = px.scatter_3d(\n",
    "#         df_plot,\n",
    "#         x=\"Dim1\",\n",
    "#         y=\"Dim2\",\n",
    "#         z=\"Dim3\",\n",
    "#         text=\"Restaurant\",\n",
    "#         color=\"Restaurant\",\n",
    "#         title=\"Restaurant Similarity (3D)\",\n",
    "#     )\n",
    "\n",
    "#     # Update layout for larger size and add keywords to axis labels\n",
    "#     fig.update_layout(\n",
    "#         width=1000,  # Width in pixels\n",
    "#         height=800,  # Height in pixels\n",
    "#         scene=dict(\n",
    "#             aspectmode=\"cube\",\n",
    "#             aspectratio=dict(x=1, y=1, z=1),\n",
    "#             xaxis_title=f\"Dim1: {', '.join(keywords[0])}\",\n",
    "#             yaxis_title=f\"Dim2: {', '.join(keywords[1])}\",\n",
    "#             zaxis_title=f\"Dim3: {', '.join(keywords[2])}\",\n",
    "#         ),\n",
    "#         margin=dict(l=0, r=0, b=0, t=30),  # Reduce margins\n",
    "#     )\n",
    "\n",
    "#     fig.update_traces(textposition=\"top center\")\n",
    "#     fig.show()\n",
    "\n",
    "\n",
    "# plot_restaurant_similarities()"
   ]
  },
  {
   "cell_type": "code",
   "execution_count": 42,
   "metadata": {},
   "outputs": [],
   "source": [
    "# def plot_restaurant_similarities_by_keywords(dim1_keyword, dim2_keyword, dim3_keyword):\n",
    "#     \"\"\"\n",
    "#     Creates a 3D scatter plot of restaurant similarities based on similarity to specified keywords\n",
    "\n",
    "#     Args:\n",
    "#         dim1_keyword (str): Keyword for X axis\n",
    "#         dim2_keyword (str): Keyword for Y axis\n",
    "#         dim3_keyword (str): Keyword for Z axis\n",
    "#     \"\"\"\n",
    "#     # Get average vector for each restaurant and calculate similarity with keywords\n",
    "#     restaurant_vectors = {}\n",
    "\n",
    "#     for restaurant in df[\"nom\"].unique():\n",
    "#         words_lists = df[df[\"nom\"] == restaurant][\"avis_no_stopwords\"]\n",
    "#         keyword_scores = np.zeros(3)\n",
    "#         review_count = 0\n",
    "\n",
    "#         for review in words_lists:\n",
    "#             word_vectors = [\n",
    "#                 model.wv[word] for word in review.split() if word in model.wv\n",
    "#             ]\n",
    "#             if word_vectors:\n",
    "#                 review_vector = np.mean(word_vectors, axis=0)\n",
    "#                 # Calculate similarity with each keyword\n",
    "#                 if dim1_keyword in model.wv:\n",
    "#                     keyword_scores[0] += np.dot(review_vector, model.wv[dim1_keyword])\n",
    "#                 if dim2_keyword in model.wv:\n",
    "#                     keyword_scores[1] += np.dot(review_vector, model.wv[dim2_keyword])\n",
    "#                 if dim3_keyword in model.wv:\n",
    "#                     keyword_scores[2] += np.dot(review_vector, model.wv[dim3_keyword])\n",
    "#                 review_count += 1\n",
    "\n",
    "#         if review_count > 0:\n",
    "#             restaurant_vectors[restaurant] = keyword_scores / review_count\n",
    "\n",
    "#     # Create DataFrame for plotting\n",
    "#     df_plot = pd.DataFrame(\n",
    "#         {\n",
    "#             \"Restaurant\": list(restaurant_vectors.keys()),\n",
    "#             \"Dim1\": [v[0] for v in restaurant_vectors.values()],\n",
    "#             \"Dim2\": [v[1] for v in restaurant_vectors.values()],\n",
    "#             \"Dim3\": [v[2] for v in restaurant_vectors.values()],\n",
    "#         }\n",
    "#     )\n",
    "\n",
    "#     # Create 3D scatter plot\n",
    "#     fig = px.scatter_3d(\n",
    "#         df_plot,\n",
    "#         x=\"Dim1\",\n",
    "#         y=\"Dim2\",\n",
    "#         z=\"Dim3\",\n",
    "#         text=\"Restaurant\",\n",
    "#         color=\"Restaurant\",\n",
    "#         title=f\"Restaurant Similarity based on keywords: {dim1_keyword}, {dim2_keyword}, {dim3_keyword}\",\n",
    "#     )\n",
    "\n",
    "#     # Update layout\n",
    "#     fig.update_layout(\n",
    "#         width=1000,\n",
    "#         height=800,\n",
    "#         scene=dict(\n",
    "#             aspectmode=\"cube\",\n",
    "#             aspectratio=dict(x=1, y=1, z=1),\n",
    "#             xaxis_title=f\"Similarity to '{dim1_keyword}'\",\n",
    "#             yaxis_title=f\"Similarity to '{dim2_keyword}'\",\n",
    "#             zaxis_title=f\"Similarity to '{dim3_keyword}'\",\n",
    "#         ),\n",
    "#         margin=dict(l=0, r=0, b=0, t=30),\n",
    "#     )\n",
    "\n",
    "#     fig.update_traces(textposition=\"top center\")\n",
    "#     fig.show()\n",
    "\n",
    "\n",
    "# # Example usage:\n",
    "# plot_restaurant_similarities_by_keywords(\"prix\", \"ambiance\", \"qualité\")"
   ]
  },
  {
   "cell_type": "code",
   "execution_count": 43,
   "metadata": {},
   "outputs": [],
   "source": [
    "# def plot_restaurant_similarities_by_themes(themes_keywords):\n",
    "#     \"\"\"\n",
    "#     Creates a 3D scatter plot of restaurant similarities based on similarity to sets of keywords\n",
    "\n",
    "#     Args:\n",
    "#         themes_keywords (dict): Dictionary where keys are theme names and values are lists of keywords\n",
    "#     \"\"\"\n",
    "#     # Get average vector for each restaurant and calculate similarity with keyword sets\n",
    "#     restaurant_vectors = {}\n",
    "\n",
    "#     for restaurant in df[\"nom\"].unique():\n",
    "#         words_lists = df[df[\"nom\"] == restaurant][\"avis_no_stopwords\"]\n",
    "#         keyword_scores = np.zeros(len(themes_keywords))\n",
    "#         review_count = 0\n",
    "\n",
    "#         for review in words_lists:\n",
    "#             word_vectors = [\n",
    "#                 model.wv[word] for word in review.split() if word in model.wv\n",
    "#             ]\n",
    "#             if word_vectors:\n",
    "#                 review_vector = np.mean(word_vectors, axis=0)\n",
    "\n",
    "#                 # Calculate similarity with each keyword set\n",
    "#                 for dim_idx, (theme, keyword_set) in enumerate(themes_keywords.items()):\n",
    "#                     set_scores = []\n",
    "#                     for keyword in keyword_set:\n",
    "#                         if keyword in model.wv:\n",
    "#                             similarity = np.dot(review_vector, model.wv[keyword])\n",
    "#                             set_scores.append(similarity)\n",
    "#                     if set_scores:\n",
    "#                         keyword_scores[dim_idx] += np.mean(set_scores)\n",
    "#                 review_count += 1\n",
    "\n",
    "#         if review_count > 0:\n",
    "#             restaurant_vectors[restaurant] = keyword_scores / review_count\n",
    "\n",
    "#     # Create DataFrame for plotting\n",
    "#     df_plot = pd.DataFrame(\n",
    "#         {\n",
    "#             \"Restaurant\": list(restaurant_vectors.keys()),\n",
    "#             \"Dim1\": [v[0] for v in restaurant_vectors.values()],\n",
    "#             \"Dim2\": [v[1] for v in restaurant_vectors.values()],\n",
    "#             \"Dim3\": [v[2] for v in restaurant_vectors.values()],\n",
    "#         }\n",
    "#     )\n",
    "\n",
    "#     # Create 3D scatter plot\n",
    "#     fig = px.scatter_3d(\n",
    "#         df_plot,\n",
    "#         x=\"Dim1\",\n",
    "#         y=\"Dim2\",\n",
    "#         z=\"Dim3\",\n",
    "#         text=\"Restaurant\",\n",
    "#         color=\"Restaurant\",\n",
    "#         title=\"Restaurant Similarity based on themes\",\n",
    "#     )\n",
    "\n",
    "#     # Update layout\n",
    "#     fig.update_layout(\n",
    "#         width=1000,\n",
    "#         height=800,\n",
    "#         scene=dict(\n",
    "#             aspectmode=\"cube\",\n",
    "#             aspectratio=dict(x=1, y=1, z=1),\n",
    "#             xaxis_title=f\"Similarity to '{list(themes_keywords.keys())[0]}'\",\n",
    "#             yaxis_title=f\"Similarity to '{list(themes_keywords.keys())[1]}'\",\n",
    "#             zaxis_title=f\"Similarity to '{list(themes_keywords.keys())[2]}'\",\n",
    "#         ),\n",
    "#         margin=dict(l=0, r=0, b=0, t=30),\n",
    "#     )\n",
    "\n",
    "#     fig.update_traces(textposition=\"top center\")\n",
    "#     fig.show()\n",
    "\n",
    "\n",
    "# # Example usage:\n",
    "# plot_restaurant_similarities_by_themes(themes)"
   ]
  }
 ],
 "metadata": {
  "kernelspec": {
   "display_name": "friands",
   "language": "python",
   "name": "python3"
  },
  "language_info": {
   "codemirror_mode": {
    "name": "ipython",
    "version": 3
   },
   "file_extension": ".py",
   "mimetype": "text/x-python",
   "name": "python",
   "nbconvert_exporter": "python",
   "pygments_lexer": "ipython3",
   "version": "3.11.11"
  }
 },
 "nbformat": 4,
 "nbformat_minor": 2
}
